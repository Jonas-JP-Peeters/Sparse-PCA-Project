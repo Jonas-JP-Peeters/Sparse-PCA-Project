{
 "cells": [
  {
   "cell_type": "code",
   "execution_count": 306,
   "metadata": {},
   "outputs": [],
   "source": [
    "from sparse_pca import *\n",
    "import pandas as pd\n",
    "from sklearn.decomposition import SparsePCA\n",
    "from sklearn import preprocessing\n",
    "from sklearn.preprocessing import StandardScaler\n",
    "from datetime import datetime\n",
    "from scipy.linalg import orth\n",
    "import numpy as np\n",
    "\n",
    "plt.rc('text', usetex=True)\n",
    "plt.rc('text.latex', preamble=r'\\usepackage{siunitx}')"
   ]
  },
  {
   "cell_type": "markdown",
   "metadata": {},
   "source": [
    "Load the dataset"
   ]
  },
  {
   "cell_type": "code",
   "execution_count": 307,
   "metadata": {},
   "outputs": [],
   "source": [
    "X_small = pd.read_csv(\"../Data/BreastTissue.csv\").drop(['Case #'],axis = 1).drop(['Class'],axis=1).to_numpy()\n",
    "y_small = pd.read_csv(\"../Data/BreastTissue.csv\").drop(['Case #'],axis = 1)['Class'].to_numpy()\n",
    "\n",
    "y_small = preprocessing.LabelEncoder().fit_transform(y_small)"
   ]
  },
  {
   "cell_type": "code",
   "execution_count": 326,
   "metadata": {},
   "outputs": [],
   "source": [
    "class PCAObject:\n",
    "    def __init__(self, PCs, X, label):\n",
    "        assert len(PCs) == min(X.shape[0],X.shape[1]), \"Need all the principal components!\"\n",
    "        self.pcs = PCs\n",
    "        self.X = StandardScaler().fit_transform(X)\n",
    "        self.cov = np.cov(self.X.T)\n",
    "        self.label = label\n",
    "        \n",
    "        self._calcExpVar()\n",
    "        self._calcNonZeroLoads()\n",
    "        self._calcGini()\n",
    "        self._calcSparsity()    \n",
    "    \n",
    "    def _checkOrtho(self):\n",
    "        # Check if the Principal components are orthogonal\n",
    "        norm = np.linalg.norm(self.pcs @ self.pcs.T - np.identity(len(self.pcs)))\n",
    "        return norm < 1e-2\n",
    "    \n",
    "    def _calcExpVar(self):\n",
    "        self.ev = Adj_Var(StandardScaler().fit_transform(self.X), self.pcs)\n",
    "        self.pev = self.ev/np.sum(self.ev)\n",
    "        self.cev = np.cumsum(np.flip(np.sort(self.pev)))\n",
    "        self.evd = gini(np.asarray(self.pev))\n",
    "        \n",
    "    def _calcNonZeroLoads(self):\n",
    "        self.nonZeroLoads = [np.count_nonzero(pc) for pc in self.pcs]\n",
    "        \n",
    "    def _calcGini(self):\n",
    "        self.gini = [gini(abs(i)) for i in self.pcs]\n",
    "        \n",
    "    def _calcSparsity(self):\n",
    "        self.sparsity = np.sum([gini * pev for gini, pev in zip(self.gini, self.pev)])\n",
    "        \n",
    "    def plotNonZeroLoadtoPEV(self):\n",
    "        plt.plot(self.nonZeroLoads, self.pev, label=self.label)\n",
    "        plt.xlabel('Number of non-zero loadings')\n",
    "        plt.xscale('log')\n",
    "        plt.ylabel('Percentage of explained variance (PEV)')\n",
    "        plt.ylim((0,1))\n",
    "        plt.legend()\n",
    "        plt.title('Percentage of explained variance (PEV) vs non-zero loadings')\n",
    "        \n",
    "    def plotCEV(self):\n",
    "        x = np.arange(len(self.pcs))\n",
    "        \n",
    "        plt.plot(x, np.sort(self.cev), label = self.label)\n",
    "        plt.xlabel('Number of component')\n",
    "        plt.ylabel('Cumulative explained variance (CEV)')\n",
    "        plt.xlim((0,1))\n",
    "        plt.legend()\n",
    "        plt.title('Cumulative explained variance (CEV)')\n",
    "        \n",
    "    def plotSparsitytoEV(self,k): #k is which PC you want to plot\n",
    "        plt.scatter(self.gini[k], self.ev[k], label = self.label)\n",
    "        plt.xlabel('Sparsity of PC '+str(k+1))\n",
    "        plt.ylabel('Explained Variance of PC '+str(k+1))\n",
    "        plt.legend()\n",
    "        plt.title('Sparsity of PC versus Expained Variance of PC '+str(k+1))\n",
    "        \n",
    "    def plotSparsity(self):\n",
    "        x = np.arange(len(self.pcs))\n",
    "        y = np.flip(np.sort(self.gini))\n",
    "        \n",
    "        plt.scatter(x, y)\n",
    "        plt.plot(x, y, label = self.label)\n",
    "        plt.xlabel('Number of component')\n",
    "        plt.ylabel('Sparsity of Loadings')\n",
    "        plt.legend()\n",
    "        plt.title('Sparsity of Components')"
   ]
  },
  {
   "cell_type": "markdown",
   "metadata": {},
   "source": [
    "We want four rows: PCA, SCoT, SCoTLASS, SPCA for their \"best\" specification. We will show the difference within each model in tables and figures in the appendix. Columns containing: Weighted Gini coefficient, distribution of explained variance"
   ]
  },
  {
   "cell_type": "code",
   "execution_count": 309,
   "metadata": {},
   "outputs": [],
   "source": [
    "def table_builder(function, params, X):\n",
    "    if len(params.keys()) > 0:\n",
    "        results_table = pd.DataFrame(params)\n",
    "        results_table = results_table.set_index(list(params.keys()))\n",
    "    else:\n",
    "        results_table = pd.DataFrame(index = [1])\n",
    "\n",
    "    for column in ['Concentration of EV', 'Sparsity', 'Run Time (sec)']:\n",
    "        results_table[column] = np.nan\n",
    "\n",
    "    for index, row in results_table.iterrows():\n",
    "        start = datetime.now()\n",
    "        if len(params.keys()) == 0:\n",
    "            PCs = function(X)\n",
    "        elif len(params.keys()) == 1:\n",
    "            PCs = function(X, index)\n",
    "        else:\n",
    "            PCs = function(X, index[0], index[1])\n",
    "        obj = PCAObject(PCs, X_small, \"\")\n",
    "        obj._calcGini()\n",
    "        obj._calcExpVar()\n",
    "        obj._calcSparsity()\n",
    "        stop = datetime.now()\n",
    "\n",
    "        evd = obj.evd\n",
    "        spa = obj.sparsity\n",
    "        runtime = \"{runtime:d}\".format(runtime = (stop - start).seconds)\n",
    "        results_table.loc[index] = [evd, spa, runtime]\n",
    "    return results_table"
   ]
  },
  {
   "cell_type": "code",
   "execution_count": 235,
   "metadata": {},
   "outputs": [],
   "source": [
    "def function(X):\n",
    "    return reg_PCA(X)[1]\n",
    "params = {}\n",
    "PCA_df = table_builder(function, params, X_small)\n",
    "with open('../Tables/PCA.tex', 'w') as file:\n",
    "        file.write(PCA_df.to_latex(column_format = \"cccc\",\n",
    "                                   index = False,\n",
    "                                   float_format = \"%.2f\",\n",
    "                                   escape = False))"
   ]
  },
  {
   "cell_type": "code",
   "execution_count": 310,
   "metadata": {},
   "outputs": [],
   "source": [
    "def function(X, reg):\n",
    "    return SCoT(X, reg, alpha = 10**-6,max_iter = 500000)\n",
    "params = {r\"$\\theta$\": [600, 685, 800, 900]}\n",
    "SCoT_df = table_builder(function, params, X_small)\n",
    "with open('../Tables/SCoT.tex', 'w') as file:\n",
    "        file.write(SCoT_df.to_latex(column_format = \"r|cccc\",\n",
    "                                    float_format = \"%.2f\",\n",
    "                                    escape = False))"
   ]
  },
  {
   "cell_type": "code",
   "execution_count": 311,
   "metadata": {},
   "outputs": [],
   "source": [
    "def function(X, reg):\n",
    "    return SCoTLASS(X, reg, alpha = 10**-6,max_iter = 500000)\n",
    "params = {\"$t$\": [1, 1.5, 2, 2.5]}\n",
    "SCoTLASS_df = table_builder(function, params, X_small)\n",
    "with open('../Tables/SCoTLASS.tex', 'w') as file:\n",
    "        file.write(SCoTLASS_df.to_latex(column_format = \"r|cccc\",\n",
    "                                        float_format = \"%.2f\",\n",
    "                                        escape = False))"
   ]
  },
  {
   "cell_type": "code",
   "execution_count": 312,
   "metadata": {},
   "outputs": [],
   "source": [
    "def function(X, reg, reg2):\n",
    "    X = StandardScaler().fit_transform(X)\n",
    "    transformer = SparsePCA(n_components = 9, alpha = reg, ridge_alpha = reg2)\n",
    "    transformer.fit(X)\n",
    "    norm_comps = [i/np.linalg.norm(i) for i in transformer.components_]\n",
    "    return norm_comps\n",
    "params = {\"$\\lambda_1$\": [0.0001,0.001, 0.01, 0.1], \n",
    "          \"$\\lambda_2$\": [0.1,0.1,0.1,0.1]}\n",
    "SPCA_df = table_builder(function, params, X_small)\n",
    "with open('../Tables/SPCA.tex', 'w') as file:\n",
    "        file.write(SPCA_df.to_latex(column_format = \"rr|cccc\",\n",
    "                                    float_format = \"%.2f\",\n",
    "                                    escape = False))"
   ]
  },
  {
   "cell_type": "code",
   "execution_count": 239,
   "metadata": {},
   "outputs": [],
   "source": [
    "def spca(X, reg, reg2): \n",
    "    X = StandardScaler().fit_transform(X)\n",
    "    transformer = SparsePCA(n_components = 9, alpha = reg, ridge_alpha = reg2)\n",
    "    transformer.fit(X)\n",
    "    norm_comps = [i/np.linalg.norm(i) for i in transformer.components_]\n",
    "    return norm_comps"
   ]
  },
  {
   "cell_type": "code",
   "execution_count": 240,
   "metadata": {},
   "outputs": [],
   "source": [
    "def scot_wrapper(reg_param):\n",
    "    PCs = PCAObject(SCoT(X_small, reg_param, alpha = 10**-2, max_iter = 5e5), X_small, \" \")\n",
    "    PCs._calcGini()\n",
    "    return PCs.sparsity"
   ]
  },
  {
   "cell_type": "code",
   "execution_count": 241,
   "metadata": {},
   "outputs": [],
   "source": [
    "reg_params = np.geomspace(0.01, 1000, num = 10).reshape(-1,1)\n",
    "plot = np.apply_along_axis(scot_wrapper, axis = 1, arr = reg_params)"
   ]
  },
  {
   "cell_type": "code",
   "execution_count": 242,
   "metadata": {},
   "outputs": [
    {
     "data": {
      "image/png": "[encoded data removed]",
      "text/plain": [
       "<Figure size 432x288 with 1 Axes>"
      ]
     },
     "metadata": {
      "needs_background": "light"
     },
     "output_type": "display_data"
    }
   ],
   "source": [
    "plt.plot(reg_params, plot)\n",
    "plt.xlabel(r\"Regularization parameter $\\theta$\")\n",
    "plt.xscale(\"log\")\n",
    "plt.ylabel(\"Weighted Gini Coefficient\")\n",
    "plt.show()"
   ]
  },
  {
   "cell_type": "code",
   "execution_count": 303,
   "metadata": {
    "scrolled": true
   },
   "outputs": [
    {
     "data": {
      "text/plain": [
       "0.16588405152398056"
      ]
     },
     "execution_count": 303,
     "metadata": {},
     "output_type": "execute_result"
    },
    {
     "data": {
      "image/png": "[encoded data removed]",
      "text/plain": [
       "<Figure size 432x288 with 1 Axes>"
      ]
     },
     "metadata": {
      "needs_background": "light"
     },
     "output_type": "display_data"
    }
   ],
   "source": [
    "reg_reg.plotCEV()\n",
    "reg_scot_600.plotCEV()\n",
    "reg_scot_685.plotCEV()\n",
    "reg_scot_800.plotCEV()\n",
    "reg_scot_900.plotCEV()\n",
    "plt.title(\"\")\n",
    "plt.savefig(\"../Figures/SCoT_comparison.pdf\", bbox_inches = 'tight')\n"
   ]
  },
  {
   "cell_type": "code",
   "execution_count": 252,
   "metadata": {},
   "outputs": [
    {
     "data": {
      "image/png": "[encoded data removed]",
      "text/plain": [
       "<Figure size 432x288 with 1 Axes>"
      ]
     },
     "metadata": {
      "needs_background": "light"
     },
     "output_type": "display_data"
    }
   ],
   "source": [
    "params = {\"$\\lambda_1$\": [0.0001, 0.001, 0.01, 0.1], \n",
    "          \"$\\lambda_2$\": [0.1, 0.1, 0.1, 0.1]}\n",
    "\n",
    "spca = SparsePCA(n_components = 9, alpha = 0.0001, ridge_alpha = 0.1).fit(X_small).components_\n",
    "reg_spca_pt0001 = PCAObject(spca, X_small, r\"$\\lambda_1 = 0.0001$ and $\\lambda_2 = 0.1$\")\n",
    "\n",
    "spca = SparsePCA(n_components = 9, alpha = 0.001, ridge_alpha = 0.1).fit(X_small).components_\n",
    "reg_spca_pt001 = PCAObject(spca, X_small, r\"$\\lambda_1 = 0.001$ and $\\lambda_2 = 0.1$\")\n",
    "\n",
    "spca = SparsePCA(n_components = 9, alpha = 0.01, ridge_alpha = 0.1).fit(X_small).components_\n",
    "reg_spca_pt01 = PCAObject(spca, X_small, r\"$\\lambda_1 = 0.01$ and $\\lambda_2 = 0.1$\")\n",
    "\n",
    "spca = SparsePCA(n_components = 9, alpha = 0.1, ridge_alpha = 0.1).fit(X_small).components_\n",
    "reg_spca_pt1 = PCAObject(spca, X_small, r\"$\\lambda_1 = 0.1$ and $\\lambda_2 = 0.1$\")\n",
    "\n",
    "reg_reg.plotCEV()\n",
    "reg_spca_pt0001.plotCEV()\n",
    "reg_spca_pt001.plotCEV()\n",
    "reg_spca_pt01.plotCEV()\n",
    "reg_spca_pt1.plotCEV()\n",
    "plt.title(\"\")\n",
    "plt.savefig(\"../Figures/SPCA_comparison.pdf\", bbox_inches = 'tight')"
   ]
  },
  {
   "cell_type": "code",
   "execution_count": 286,
   "metadata": {},
   "outputs": [],
   "source": [
    "results_table = pd.DataFrame({'Model': ['PCA', r\"SCoT ($\\theta = 685$)\", \n",
    "                                      \"SCoTLASS ($t = 2$)\", \n",
    "                                      \"SPCA ($\\lambda_1=0.001$ and $\\lambda_2=0.1$)\"]})\n",
    "for column in ['Concentration of EV', 'Sparsity', 'Run Time (sec)']:\n",
    "        results_table[column] = np.nan\n",
    "results_table = results_table.set_index('Model')\n",
    "\n",
    "start = datetime.now()\n",
    "reg_reg = PCAObject(reg_PCA(X_small)[1], X_small, \"PCA\")\n",
    "stop = datetime.now()\n",
    "results_table.loc[\"PCA\"] = [reg_reg.evd, \n",
    "                            reg_reg.sparsity, \n",
    "                            \"{runtime:d}\".format(runtime = (stop - start).seconds)]\n",
    "\n",
    "\n",
    "start = datetime.now()\n",
    "reg_scot_685 = PCAObject(SCoT(X_small, 685, alpha = 10**-6, max_iter = 500000), \n",
    "                          X_small, r\"SCoT ($\\theta = 685$)\")\n",
    "stop = datetime.now()\n",
    "results_table.loc[r\"SCoT ($\\theta = 685$)\"] = [reg_scot_685.evd, \n",
    "                                                reg_scot_685.sparsity, \n",
    "                                                \"{runtime:d}\".format(runtime = (stop - start).seconds)]\n",
    "\n",
    "start = datetime.now()\n",
    "reg_scotlass_2 = PCAObject(SCoTLASS(X_small,2,alpha = 10**-6, max_iter=500000), \n",
    "                              X_small, \"SCoTLASS ($t = 2$)\")\n",
    "stop = datetime.now()\n",
    "results_table.loc[\"SCoTLASS ($t = 2$)\"] = [reg_scotlass_2.evd, \n",
    "                            reg_scotlass_2.sparsity, \n",
    "                            \"{runtime:d}\".format(runtime = (stop - start).seconds)]\n",
    "\n",
    "start = datetime.now()\n",
    "reg_spca_pt001 = PCAObject(SparsePCA(n_components = 9, alpha = 0.001, ridge_alpha = 0.1).fit(X_small).components_, \n",
    "                              X_small, \"SPCA ($\\lambda_1=0.001$ and $\\lambda_2=0.1$)\")\n",
    "stop = datetime.now()\n",
    "results_table.loc[\"SPCA ($\\lambda_1=0.001$ and $\\lambda_2=0.1$)\"] = [reg_spca_pt001.evd, \n",
    "                            reg_spca_pt001.sparsity, \n",
    "                            \"{runtime:d}\".format(runtime = (stop - start).seconds)]\n",
    "\n",
    "with open('../Tables/SummaryModels.tex', 'w') as file:\n",
    "        file.write(results_table.to_latex(column_format = \"r|ccc\",\n",
    "                                            float_format = \"%.2f\",\n",
    "                                            escape = False))"
   ]
  },
  {
   "cell_type": "code",
   "execution_count": 329,
   "metadata": {},
   "outputs": [
    {
     "data": {
      "image/png": "[encoded data removed]",
      "text/plain": [
       "<Figure size 432x288 with 1 Axes>"
      ]
     },
     "metadata": {
      "needs_background": "light"
     },
     "output_type": "display_data"
    }
   ],
   "source": [
    "reg_reg = PCAObject(reg_PCA(X_small)[1], X_small, \"Regular\")\n",
    "\n",
    "\n",
    "reg_reg.plotSparsity()\n",
    "reg_scot_685.plotSparsity()\n",
    "reg_scotlass_2.plotSparsity()\n",
    "reg_spca_pt001.plotSparsity()\n",
    "plt.legend(bbox_to_anchor = (0.5, -0.15), ncol = 2, loc = 'upper center')\n",
    "plt.title(\"\")\n",
    "plt.savefig(\"../Figures/sparsityOfComponents.pdf\", bbox_inches = 'tight')"
   ]
  },
  {
   "cell_type": "code",
   "execution_count": 265,
   "metadata": {},
   "outputs": [],
   "source": [
    "# Create PCAObjects\n",
    "reg_reg = PCAObject(reg_PCA(X_small)[1], X_small, \"Regular\")\n",
    "\n",
    "reg_scot_500 = PCAObject(SCoT(X_small, 500, alpha = 10**-6, max_iter = 500000), \n",
    "                         X_small, r\"SCoT ($\\theta = 500$)\")\n",
    "reg_scot_600 = PCAObject(SCoT(X_small, 600, alpha = 10**-6, max_iter = 500000), \n",
    "                         X_small, r\"SCoT ($\\theta = 600$)\")\n",
    "reg_scot_700 = PCAObject(SCoT(X_small, 700, alpha = 10**-6, max_iter = 500000), \n",
    "                         X_small, r\"SCoT ($\\theta = 700$)\")\n",
    "reg_scot_800 = PCAObject(SCoT(X_small, 800, alpha = 10**-6, max_iter = 500000), \n",
    "                         X_small, r\"SCoT ($\\theta = 800$)\")\n",
    "reg_scot_900 = PCAObject(SCoT(X_small, 900, alpha = 10**-6, max_iter = 500000), \n",
    "                         X_small, r\"SCoT ($\\theta = 900$)\")\n",
    "# reg_scot_1000 = PCAObject(SCoT(X_small, 1000, alpha = 10**-6, max_iter = 500000), \n",
    "#                           X_small, r\"SCoT ($\\theta =1000$)\")\n",
    "# reg_scot_5000 = PCAObject(SCoT(X_small, 5000, alpha = 10**-6, max_iter = 500000), \n",
    "#                           X_small, r\"SCoT ($\\theta =5000$)\")\n",
    "\n",
    "reg_scotlass_1 = PCAObject(SCoTLASS(X_small,1,alpha = 10**-6, max_iter = 500000), \n",
    "                           X_small, r\"SCoTLASS ($t = 1$)\")\n",
    "reg_scotlass_1pt5= PCAObject(SCoTLASS(X_small,1.5,alpha = 10**-6, max_iter=500000), \n",
    "                             X_small, r\"SCoTLASS ($t = 1.5$)\")\n",
    "reg_scotlass_2 = PCAObject(SCoTLASS(X_small,2,alpha = 10**-6, max_iter=500000), \n",
    "                           X_small, r\"SCoTLASS ($t = 2$)\")\n",
    "reg_scotlass_2pt5= PCAObject(SCoTLASS(X_small,2.5,alpha = 10**-6, max_iter=500000), \n",
    "                             X_small, r\"SCoTLASS ($t = 2.5$)\")\n",
    "\n",
    "reg_spca_00001 = PCAObject(SPCA(X_small,0.0001,0.1), X_small, r\"SPCA 0.0001\")\n",
    "reg_spca_0001 = PCAObject(SPCA(X_small,0.001,0.1), X_small, r\"SPCA 0.001\")\n",
    "reg_spca_001 = PCAObject(SPCA(X_small,0.01,0.1), X_small, r\"SPCA 0.01\")\n",
    "reg_spca_01 = PCAObject(SPCA(X_small,0.1,0.1), X_small, r\"SPCA 0.1\")\n",
    "\n",
    "# Create lists of ordered loadings\n",
    "\n",
    "reg_reg_ord = list(reversed(np.argsort(abs(reg_reg.pcs[0]))))+np.ones(len(reg_reg.pcs[0]))\n",
    "\n",
    "reg_scot_500_ord = list(reversed(np.argsort(abs(reg_scot_500.pcs[0]))))+np.ones(len(reg_scot_500.pcs[0]))\n",
    "reg_scot_600_ord = list(reversed(np.argsort(abs(reg_scot_600.pcs[0]))))+np.ones(len(reg_scot_600.pcs[0]))\n",
    "reg_scot_700_ord = list(reversed(np.argsort(abs(reg_scot_700.pcs[0]))))+np.ones(len(reg_scot_700.pcs[0]))\n",
    "reg_scot_800_ord = list(reversed(np.argsort(abs(reg_scot_800.pcs[0]))))+np.ones(len(reg_scot_800.pcs[0]))\n",
    "reg_scot_900_ord = list(reversed(np.argsort(abs(reg_scot_900.pcs[0]))))+np.ones(len(reg_scot_900.pcs[0]))\n",
    "\n",
    "reg_scotlass_1_ord = list(reversed(np.argsort(abs(reg_scotlass_1.pcs[0]))))+np.ones(len(reg_scotlass_1.pcs[0]))\n",
    "reg_scotlass_1pt5_ord = list(reversed(np.argsort(abs(reg_scotlass_1pt5.pcs[0]))))+np.ones(len(reg_scotlass_1pt5.pcs[0]))\n",
    "reg_scotlass_2_ord = list(reversed(np.argsort(abs(reg_scotlass_2.pcs[0]))))+np.ones(len(reg_scotlass_2.pcs[0]))\n",
    "reg_scotlass_2pt5_ord = list(reversed(np.argsort(abs(reg_scotlass_2pt5.pcs[0]))))+np.ones(len(reg_scotlass_2pt5.pcs[0]))\n",
    "#reg_scotlass_2pt7_ord = list(reversed(np.argsort(abs(reg_scotlass_2pt7.pcs[0]))))+np.ones(len(reg_scotlass_2pt7.pcs[0]))\n",
    "\n",
    "reg_spca_00001_ord = list(reversed(np.argsort(abs(reg_spca_00001.pcs[0]))))+np.ones(len(reg_scotlass_1.pcs[0]))\n",
    "reg_spca_0001_ord = list(reversed(np.argsort(abs(reg_spca_0001.pcs[0]))))+np.ones(len(reg_scotlass_1.pcs[0]))\n",
    "reg_spca_001_ord = list(reversed(np.argsort(abs(reg_spca_001.pcs[0]))))+np.ones(len(reg_scotlass_1pt3.pcs[0]))\n",
    "reg_spca_01_ord = list(reversed(np.argsort(abs(reg_spca_01.pcs[0]))))+np.ones(len(reg_scotlass_1pt5.pcs[0]))"
   ]
  },
  {
   "cell_type": "code",
   "execution_count": 266,
   "metadata": {},
   "outputs": [
    {
     "data": {
      "text/plain": [
       "<bound method PCAObject._calcGini of <__main__.PCAObject object at 0x1a18db4f98>>"
      ]
     },
     "execution_count": 266,
     "metadata": {},
     "output_type": "execute_result"
    }
   ],
   "source": [
    "# Calc EV and gini\n",
    "reg_reg._calcExpVar()\n",
    "\n",
    "reg_scot_500._calcExpVar()\n",
    "reg_scot_600._calcExpVar()\n",
    "reg_scot_700._calcExpVar()\n",
    "reg_scot_800._calcExpVar()\n",
    "reg_scot_900._calcExpVar()\n",
    "\n",
    "reg_scotlass_1._calcExpVar()\n",
    "reg_scotlass_1pt5._calcExpVar()\n",
    "reg_scotlass_2._calcExpVar()\n",
    "reg_scotlass_2pt5._calcExpVar()\n",
    "reg_scotlass_2pt7._calcExpVar()\n",
    "\n",
    "reg_spca_00001._calcExpVar()\n",
    "reg_spca_0001._calcExpVar()\n",
    "reg_spca_001._calcExpVar()\n",
    "reg_spca_01._calcExpVar()\n",
    "\n",
    "reg_scot_500._calcGini\n",
    "reg_scot_600._calcGini\n",
    "reg_scot_700._calcGini\n",
    "reg_scot_800._calcGini\n",
    "reg_scot_900._calcGini\n",
    "\n",
    "reg_scotlass_1._calcGini\n",
    "reg_scotlass_1pt5._calcGini\n",
    "reg_scotlass_2._calcGini\n",
    "reg_scotlass_2pt5._calcGini\n",
    "reg_scotlass_2pt7._calcGini\n",
    "\n",
    "reg_spca_00001._calcGini\n",
    "reg_spca_0001._calcGini\n",
    "reg_spca_001._calcGini\n",
    "reg_spca_01._calcGini"
   ]
  },
  {
   "cell_type": "code",
   "execution_count": 295,
   "metadata": {},
   "outputs": [],
   "source": [
    "reg_scot_685_ord = list(reversed(np.argsort(abs(reg_scot_685.pcs[0]))))+np.ones(len(reg_scot_685.pcs[0]))\n",
    "\n",
    "ordered_loadings = np.array([reg_reg_ord,\n",
    "                    reg_scot_600_ord,\n",
    "                    reg_scot_685_ord,         \n",
    "                    reg_scot_800_ord,\n",
    "                    reg_scot_900_ord,\n",
    "                    reg_scotlass_2pt5_ord,\n",
    "                    reg_scotlass_2_ord,\n",
    "                    reg_scotlass_1pt5_ord,\n",
    "                    reg_scotlass_1_ord,\n",
    "                    reg_spca_00001_ord,\n",
    "                    reg_spca_0001_ord,\n",
    "                    reg_spca_001_ord,\n",
    "                    reg_spca_01_ord])\n",
    "\n",
    "gini_coefs = np.array([reg_reg.gini[0],   \n",
    "              reg_scot_600.gini[0], \n",
    "              reg_scot_685.gini[0],\n",
    "              reg_scot_800.gini[0],\n",
    "              reg_scot_900.gini[0],\n",
    "              reg_scotlass_2pt5.gini[0],\n",
    "              reg_scotlass_2.gini[0],\n",
    "              reg_scotlass_1pt5.gini[0],                    \n",
    "              reg_scotlass_1.gini[0],\n",
    "              reg_spca_00001.gini[0],\n",
    "              reg_spca_0001.gini[0],\n",
    "              reg_spca_001.gini[0],\n",
    "              reg_spca_01.gini[0]])\n",
    "\n",
    "pevs = np.array([reg_reg.pev[0],   \n",
    "              reg_scot_600.pev[0], \n",
    "              reg_scot_685.pev[0], \n",
    "              reg_scot_800.pev[0],\n",
    "              reg_scot_900.pev[0],\n",
    "              reg_scotlass_2pt5.pev[0],\n",
    "              reg_scotlass_2.pev[0],\n",
    "              reg_scotlass_1pt5.pev[0],                    \n",
    "              reg_scotlass_1.pev[0],\n",
    "              reg_spca_00001.pev[0],\n",
    "              reg_spca_0001.pev[0],\n",
    "              reg_spca_001.pev[0],\n",
    "              reg_spca_01.pev[0]])\n",
    "\n",
    "gini_coefs = np.reshape(gini_coefs,(len(gini_coefs),1))\n",
    "\n",
    "pevs = np.reshape(pevs,(len(pevs),1))\n",
    "\n",
    "weighted_gini = gini_coefs * pevs\n",
    "\n",
    "df_data = np.concatenate((gini_coefs, pevs, weighted_gini, ordered_loadings), 1)\n",
    "\n",
    "rows = ['PCA',\n",
    "        'SCoT ($\\theta = 600$)',\n",
    "        'SCoT ($\\theta = 685$)',\n",
    "        'SCoT ($\\theta = 800$)',\n",
    "        'SCoT ($\\theta = 900$)',\n",
    "        'SCoTLASS ($t = 2.5$)',\n",
    "        'SCoTLASS ($t = 2$)',\n",
    "        'SCoTLASS ($t = 1.5$)',\n",
    "        'SCoTLASS ($t = 1$)',\n",
    "        'SPCA ($\\lambda_1 = 0.0001$)',\n",
    "        'SPCA ($\\lambda_1 = 0.001$)',\n",
    "        'SPCA ($\\lambda_1 = 0.01$)',\n",
    "        'SPCA ($\\lambda_1 = 0.1$)']\n",
    "\n",
    "cols = ['gini','pev','weighted gini']+['%d' %(i+1) for i in range(X_small.shape[1])]\n",
    "ordered_load_df = pd.DataFrame(df_data,index = rows, columns = cols)\n",
    "ordered_load_df = ordered_load_df.astype({'1': int, '2': int, '3': int, '4': int, '5': int, \n",
    "                                          '6': int, '7': int, '8': int, '9': int})\n",
    "\n",
    "with open('../Tables/orderedLoads.tex', 'w') as file:\n",
    "        file.write(ordered_load_df.to_latex(column_format = \"rrrc|ccccccccc\",\n",
    "                                            float_format = \"%.2f\",\n",
    "                                            escape = False))"
   ]
  },
  {
   "cell_type": "code",
   "execution_count": 296,
   "metadata": {},
   "outputs": [
    {
     "data": {
      "image/png": "[encoded data removed]",
      "text/plain": [
       "<Figure size 432x288 with 1 Axes>"
      ]
     },
     "metadata": {
      "needs_background": "light"
     },
     "output_type": "display_data"
    }
   ],
   "source": [
    "reg_reg.plotCEV()\n",
    "reg_scotlass_1.plotCEV()\n",
    "reg_scotlass_1pt5.plotCEV()\n",
    "reg_scotlass_2.plotCEV()\n",
    "reg_scotlass_2pt5.plotCEV()\n",
    "reg_scotlass_2pt7.plotCEV()\n",
    "plt.title(\"\")\n",
    "plt.savefig(\"../Figures/SCoTLASS_comparison.pdf\", bbox_inches = 'tight')"
   ]
  },
  {
   "cell_type": "code",
   "execution_count": 294,
   "metadata": {},
   "outputs": [],
   "source": [
    "loadings = np.array([reg_reg.pcs[0],\n",
    "                    reg_scot_600.pcs[0],\n",
    "                    reg_scot_685.pcs[0],\n",
    "                    reg_scot_800.pcs[0],\n",
    "                    reg_scot_900.pcs[0],\n",
    "                    reg_scotlass_2pt5.pcs[0],\n",
    "                    reg_scotlass_2.pcs[0],\n",
    "                    reg_scotlass_1pt5.pcs[0],\n",
    "                    reg_scotlass_1.pcs[0],\n",
    "                    reg_spca_00001.pcs[0],\n",
    "                    reg_spca_0001.pcs[0],\n",
    "                    reg_spca_001.pcs[0],\n",
    "                    reg_spca_01.pcs[0]])\n",
    "\n",
    "rows = ['PCA',\n",
    "        'SCoT ($\\theta = 600$)',\n",
    "        'SCoT ($\\theta = 685$)',\n",
    "        'SCoT ($\\theta = 800$)',\n",
    "        'SCoT ($\\theta = 900$)',\n",
    "        'SCoTLASS ($t = 2.5$)',\n",
    "        'SCoTLASS ($t = 2$)',\n",
    "        'SCoTLASS ($t = 1.5$)',\n",
    "        'SCoTLASS ($t = 1$)',\n",
    "        'SPCA ($\\lambda_1 = 0.0001$)',\n",
    "        'SPCA ($\\lambda_1 = 0.001$)',\n",
    "        'SPCA ($\\lambda_1 = 0.01$)',\n",
    "        'SPCA ($\\lambda_1 = 0.1$)']\n",
    "\n",
    "cols = ['var %d' %(i+1) for i in range(X_small.shape[1])]\n",
    "load_df = pd.DataFrame(loadings,index = rows, columns = cols)\n",
    "#ordered_load_df = ordered_load_df.astype({'1': int, '2': int, '3': int, '4': int, '5': int, \n",
    "#                                          '6': int, '7': int, '8': int, '9': int})\n",
    "\n",
    "with open('../Tables/LoadingsPC1.tex', 'w') as file:\n",
    "        file.write(load_df.to_latex(column_format = \"r|ccccccccc\",\n",
    "                                            float_format = \"%.2f\",\n",
    "                                            escape = False))"
   ]
  },
  {
   "cell_type": "code",
   "execution_count": 198,
   "metadata": {},
   "outputs": [],
   "source": [
    "reg_reg = PCAObject(reg_PCA(X_small)[1], X_small, \"PCA\")"
   ]
  },
  {
   "cell_type": "code",
   "execution_count": 176,
   "metadata": {},
   "outputs": [],
   "source": [
    "reg_reg._calcExpVar()"
   ]
  },
  {
   "cell_type": "code",
   "execution_count": 181,
   "metadata": {},
   "outputs": [
    {
     "data": {
      "text/plain": [
       "array([5.51516788e+00, 1.82827819e+00, 7.86134008e-01, 5.10767170e-01,\n",
       "       2.87422354e-01, 1.00325006e-01, 5.36084594e-02, 3.11139439e-03,\n",
       "       8.99827641e-04])"
      ]
     },
     "execution_count": 181,
     "metadata": {},
     "output_type": "execute_result"
    }
   ],
   "source": [
    "Adj_Var(StandardScaler().fit_transform(X_small),reg_reg.pcs)"
   ]
  },
  {
   "cell_type": "code",
   "execution_count": 281,
   "metadata": {},
   "outputs": [],
   "source": [
    "reg_scot_685= PCAObject(SCoT(X_small,685,alpha = 10**-6, max_iter=500000), \n",
    "                             X_small, r\"SCoT ($\\theta = 685$)\")"
   ]
  },
  {
   "cell_type": "code",
   "execution_count": 282,
   "metadata": {},
   "outputs": [
    {
     "data": {
      "text/plain": [
       "array([0.3662308 , 0.1150802 , 0.10556697, 0.08609292, 0.07607242,\n",
       "       0.06743935, 0.0675251 , 0.06023912, 0.05575312])"
      ]
     },
     "execution_count": 282,
     "metadata": {},
     "output_type": "execute_result"
    }
   ],
   "source": [
    "reg_scot_685.pev"
   ]
  },
  {
   "cell_type": "code",
   "execution_count": 277,
   "metadata": {},
   "outputs": [
    {
     "data": {
      "text/plain": [
       "array([0.45294385, 0.11539263, 0.10454563, 0.06749065, 0.06224134,\n",
       "       0.04978557, 0.05582396, 0.0481975 , 0.04357887])"
      ]
     },
     "execution_count": 277,
     "metadata": {},
     "output_type": "execute_result"
    }
   ],
   "source": [
    "reg_scot_660.pev"
   ]
  },
  {
   "cell_type": "code",
   "execution_count": 212,
   "metadata": {},
   "outputs": [
    {
     "data": {
      "text/plain": [
       "9.085714285714287"
      ]
     },
     "execution_count": 212,
     "metadata": {},
     "output_type": "execute_result"
    }
   ],
   "source": [
    "sum(reg_scotlass_3.ev)"
   ]
  },
  {
   "cell_type": "code",
   "execution_count": 222,
   "metadata": {},
   "outputs": [
    {
     "data": {
      "text/plain": [
       "array([[ 1.,  0.,  0.,  0.,  0.,  0., -0., -0.,  0.],\n",
       "       [ 0.,  1., -0., -0.,  0., -0., -0., -0.,  0.],\n",
       "       [ 0., -0.,  1., -0.,  0., -0.,  0.,  0.,  0.],\n",
       "       [ 0., -0., -0.,  1.,  0.,  0., -0.,  0., -0.],\n",
       "       [ 0.,  0.,  0.,  0.,  1.,  0., -0., -0.,  0.],\n",
       "       [ 0., -0., -0.,  0.,  0.,  1.,  0.,  0., -0.],\n",
       "       [-0., -0.,  0., -0., -0.,  0.,  1.,  0.,  0.],\n",
       "       [-0., -0.,  0.,  0., -0.,  0.,  0.,  1., -0.],\n",
       "       [ 0.,  0.,  0., -0.,  0., -0.,  0., -0.,  1.]])"
      ]
     },
     "execution_count": 222,
     "metadata": {},
     "output_type": "execute_result"
    }
   ],
   "source": [
    "np.around((reg_scotlass_1.pcs)@(reg_scotlass_1.pcs).T,3)"
   ]
  },
  {
   "cell_type": "code",
   "execution_count": 223,
   "metadata": {},
   "outputs": [],
   "source": [
    "def Adj_Var(X,PCs):\n",
    "    adj_EVs = []\n",
    "    X_prior = np.zeros((X.shape[1],X.shape[1]))\n",
    "    for i in range(0,len(PCs)):\n",
    "        V = np.reshape(np.array([PCs[j] for j in range(i+1)]),(i+1,len(PCs[i])))\n",
    "        X_k = X @ V.T @ np.linalg.inv(V @ V.T) @ V\n",
    "        adj_EV_k = (np.trace(X_k.T@X_k) - np.trace(X_prior.T @ X_prior))/(X.shape[0]-1)\n",
    "        adj_EVs.append(adj_EV_k)\n",
    "        X_prior = X_k\n",
    "    return np.array(adj_EVs)"
   ]
  },
  {
   "cell_type": "code",
   "execution_count": 229,
   "metadata": {},
   "outputs": [
    {
     "data": {
      "text/plain": [
       "array([1.00953133, 1.00952917, 1.00952568, 1.00952256, 1.00952262,\n",
       "       1.00951982, 1.00952367, 1.0095232 , 1.00951624])"
      ]
     },
     "execution_count": 229,
     "metadata": {},
     "output_type": "execute_result"
    }
   ],
   "source": [
    "reg_scotlass_1._calcExpVar()\n",
    "Adj_Var(StandardScaler().fit_transform(X_small),reg_scotlass_1.pcs)"
   ]
  },
  {
   "cell_type": "code",
   "execution_count": 318,
   "metadata": {},
   "outputs": [
    {
     "data": {
      "text/plain": [
       "6452301590.657618"
      ]
     },
     "execution_count": 318,
     "metadata": {},
     "output_type": "execute_result"
    }
   ],
   "source": [
    "(X_small@reg_scotlass_2pt7.pcs[0]).T @ (X_small@reg_scotlass_2pt7.pcs[0])"
   ]
  },
  {
   "cell_type": "code",
   "execution_count": 316,
   "metadata": {},
   "outputs": [
    {
     "data": {
      "text/plain": [
       "35319532.40758185"
      ]
     },
     "execution_count": 316,
     "metadata": {},
     "output_type": "execute_result"
    }
   ],
   "source": [
    "(X_small@reg_scotlass_2.pcs[1]).T @ (X_small@reg_scotlass_2.pcs[1])"
   ]
  },
  {
   "cell_type": "code",
   "execution_count": 317,
   "metadata": {},
   "outputs": [
    {
     "data": {
      "text/plain": [
       "15926822720.880648"
      ]
     },
     "execution_count": 317,
     "metadata": {},
     "output_type": "execute_result"
    }
   ],
   "source": [
    "(X_small@reg_scotlass_2.pcs[2]).T @ (X_small@reg_scotlass_2.pcs[2])"
   ]
  },
  {
   "cell_type": "code",
   "execution_count": 322,
   "metadata": {},
   "outputs": [
    {
     "data": {
      "text/plain": [
       "array([0.2, 0.2, 0.2, 0.2, 0.1, 0. , 0. , 0.1, 0. ])"
      ]
     },
     "execution_count": 322,
     "metadata": {},
     "output_type": "execute_result"
    }
   ],
   "source": [
    "np.around(reg_scotlass_1pt5.pev,1)"
   ]
  },
  {
   "cell_type": "code",
   "execution_count": null,
   "metadata": {},
   "outputs": [],
   "source": []
  }
 ],
 "metadata": {
  "kernelspec": {
   "display_name": "Python 3",
   "language": "python",
   "name": "python3"
  },
  "language_info": {
   "codemirror_mode": {
    "name": "ipython",
    "version": 3
   },
   "file_extension": ".py",
   "mimetype": "text/x-python",
   "name": "python",
   "nbconvert_exporter": "python",
   "pygments_lexer": "ipython3",
   "version": "3.7.3"
  }
 },
 "nbformat": 4,
 "nbformat_minor": 4
}
