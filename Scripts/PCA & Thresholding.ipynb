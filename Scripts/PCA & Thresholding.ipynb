{
 "cells": [
  {
   "cell_type": "code",
   "execution_count": 3,
   "metadata": {},
   "outputs": [],
   "source": [
    "import numpy as np\n",
    "import pandas as pd\n",
    "from sklearn.preprocessing import StandardScaler\n",
    "from sklearn.decomposition import PCA\n",
    "import warnings\n",
    "warnings.filterwarnings('ignore')\n",
    "\n",
    "\n",
    "data_df = pd.read_csv('../Data/data.csv') #data is n x p matrix\n",
    "labels_df = pd.read_csv('../Data/labels.csv')\n",
    "\n",
    "data = np.array(data_df)[:,1:]\n",
    "labels = np.array(labels_df)"
   ]
  },
  {
   "cell_type": "code",
   "execution_count": null,
   "metadata": {},
   "outputs": [],
   "source": []
  },
  {
   "cell_type": "code",
   "execution_count": 4,
   "metadata": {
    "scrolled": true
   },
   "outputs": [
    {
     "data": {
      "text/html": [
       "<div>\n",
       "<style scoped>\n",
       "    .dataframe tbody tr th:only-of-type {\n",
       "        vertical-align: middle;\n",
       "    }\n",
       "\n",
       "    .dataframe tbody tr th {\n",
       "        vertical-align: top;\n",
       "    }\n",
       "\n",
       "    .dataframe thead th {\n",
       "        text-align: right;\n",
       "    }\n",
       "</style>\n",
       "<table border=\"1\" class=\"dataframe\">\n",
       "  <thead>\n",
       "    <tr style=\"text-align: right;\">\n",
       "      <th></th>\n",
       "      <th>Unnamed: 0</th>\n",
       "      <th>gene_0</th>\n",
       "      <th>gene_1</th>\n",
       "      <th>gene_2</th>\n",
       "      <th>gene_3</th>\n",
       "      <th>gene_4</th>\n",
       "      <th>gene_5</th>\n",
       "      <th>gene_6</th>\n",
       "      <th>gene_7</th>\n",
       "      <th>gene_8</th>\n",
       "      <th>...</th>\n",
       "      <th>gene_20521</th>\n",
       "      <th>gene_20522</th>\n",
       "      <th>gene_20523</th>\n",
       "      <th>gene_20524</th>\n",
       "      <th>gene_20525</th>\n",
       "      <th>gene_20526</th>\n",
       "      <th>gene_20527</th>\n",
       "      <th>gene_20528</th>\n",
       "      <th>gene_20529</th>\n",
       "      <th>gene_20530</th>\n",
       "    </tr>\n",
       "  </thead>\n",
       "  <tbody>\n",
       "    <tr>\n",
       "      <th>0</th>\n",
       "      <td>sample_0</td>\n",
       "      <td>0.0</td>\n",
       "      <td>2.017209</td>\n",
       "      <td>3.265527</td>\n",
       "      <td>5.478487</td>\n",
       "      <td>10.431999</td>\n",
       "      <td>0.0</td>\n",
       "      <td>7.175175</td>\n",
       "      <td>0.591871</td>\n",
       "      <td>0.0</td>\n",
       "      <td>...</td>\n",
       "      <td>4.926711</td>\n",
       "      <td>8.210257</td>\n",
       "      <td>9.723516</td>\n",
       "      <td>7.220030</td>\n",
       "      <td>9.119813</td>\n",
       "      <td>12.003135</td>\n",
       "      <td>9.650743</td>\n",
       "      <td>8.921326</td>\n",
       "      <td>5.286759</td>\n",
       "      <td>0.0</td>\n",
       "    </tr>\n",
       "    <tr>\n",
       "      <th>1</th>\n",
       "      <td>sample_1</td>\n",
       "      <td>0.0</td>\n",
       "      <td>0.592732</td>\n",
       "      <td>1.588421</td>\n",
       "      <td>7.586157</td>\n",
       "      <td>9.623011</td>\n",
       "      <td>0.0</td>\n",
       "      <td>6.816049</td>\n",
       "      <td>0.000000</td>\n",
       "      <td>0.0</td>\n",
       "      <td>...</td>\n",
       "      <td>4.593372</td>\n",
       "      <td>7.323865</td>\n",
       "      <td>9.740931</td>\n",
       "      <td>6.256586</td>\n",
       "      <td>8.381612</td>\n",
       "      <td>12.674552</td>\n",
       "      <td>10.517059</td>\n",
       "      <td>9.397854</td>\n",
       "      <td>2.094168</td>\n",
       "      <td>0.0</td>\n",
       "    </tr>\n",
       "    <tr>\n",
       "      <th>2</th>\n",
       "      <td>sample_2</td>\n",
       "      <td>0.0</td>\n",
       "      <td>3.511759</td>\n",
       "      <td>4.327199</td>\n",
       "      <td>6.881787</td>\n",
       "      <td>9.870730</td>\n",
       "      <td>0.0</td>\n",
       "      <td>6.972130</td>\n",
       "      <td>0.452595</td>\n",
       "      <td>0.0</td>\n",
       "      <td>...</td>\n",
       "      <td>5.125213</td>\n",
       "      <td>8.127123</td>\n",
       "      <td>10.908640</td>\n",
       "      <td>5.401607</td>\n",
       "      <td>9.911597</td>\n",
       "      <td>9.045255</td>\n",
       "      <td>9.788359</td>\n",
       "      <td>10.090470</td>\n",
       "      <td>1.683023</td>\n",
       "      <td>0.0</td>\n",
       "    </tr>\n",
       "    <tr>\n",
       "      <th>3</th>\n",
       "      <td>sample_3</td>\n",
       "      <td>0.0</td>\n",
       "      <td>3.663618</td>\n",
       "      <td>4.507649</td>\n",
       "      <td>6.659068</td>\n",
       "      <td>10.196184</td>\n",
       "      <td>0.0</td>\n",
       "      <td>7.843375</td>\n",
       "      <td>0.434882</td>\n",
       "      <td>0.0</td>\n",
       "      <td>...</td>\n",
       "      <td>6.076566</td>\n",
       "      <td>8.792959</td>\n",
       "      <td>10.141520</td>\n",
       "      <td>8.942805</td>\n",
       "      <td>9.601208</td>\n",
       "      <td>11.392682</td>\n",
       "      <td>9.694814</td>\n",
       "      <td>9.684365</td>\n",
       "      <td>3.292001</td>\n",
       "      <td>0.0</td>\n",
       "    </tr>\n",
       "    <tr>\n",
       "      <th>4</th>\n",
       "      <td>sample_4</td>\n",
       "      <td>0.0</td>\n",
       "      <td>2.655741</td>\n",
       "      <td>2.821547</td>\n",
       "      <td>6.539454</td>\n",
       "      <td>9.738265</td>\n",
       "      <td>0.0</td>\n",
       "      <td>6.566967</td>\n",
       "      <td>0.360982</td>\n",
       "      <td>0.0</td>\n",
       "      <td>...</td>\n",
       "      <td>5.996032</td>\n",
       "      <td>8.891425</td>\n",
       "      <td>10.373790</td>\n",
       "      <td>7.181162</td>\n",
       "      <td>9.846910</td>\n",
       "      <td>11.922439</td>\n",
       "      <td>9.217749</td>\n",
       "      <td>9.461191</td>\n",
       "      <td>5.110372</td>\n",
       "      <td>0.0</td>\n",
       "    </tr>\n",
       "  </tbody>\n",
       "</table>\n",
       "<p>5 rows × 20532 columns</p>\n",
       "</div>"
      ],
      "text/plain": [
       "  Unnamed: 0  gene_0    gene_1    gene_2    gene_3     gene_4  gene_5  \\\n",
       "0   sample_0     0.0  2.017209  3.265527  5.478487  10.431999     0.0   \n",
       "1   sample_1     0.0  0.592732  1.588421  7.586157   9.623011     0.0   \n",
       "2   sample_2     0.0  3.511759  4.327199  6.881787   9.870730     0.0   \n",
       "3   sample_3     0.0  3.663618  4.507649  6.659068  10.196184     0.0   \n",
       "4   sample_4     0.0  2.655741  2.821547  6.539454   9.738265     0.0   \n",
       "\n",
       "     gene_6    gene_7  gene_8  ...  gene_20521  gene_20522  gene_20523  \\\n",
       "0  7.175175  0.591871     0.0  ...    4.926711    8.210257    9.723516   \n",
       "1  6.816049  0.000000     0.0  ...    4.593372    7.323865    9.740931   \n",
       "2  6.972130  0.452595     0.0  ...    5.125213    8.127123   10.908640   \n",
       "3  7.843375  0.434882     0.0  ...    6.076566    8.792959   10.141520   \n",
       "4  6.566967  0.360982     0.0  ...    5.996032    8.891425   10.373790   \n",
       "\n",
       "   gene_20524  gene_20525  gene_20526  gene_20527  gene_20528  gene_20529  \\\n",
       "0    7.220030    9.119813   12.003135    9.650743    8.921326    5.286759   \n",
       "1    6.256586    8.381612   12.674552   10.517059    9.397854    2.094168   \n",
       "2    5.401607    9.911597    9.045255    9.788359   10.090470    1.683023   \n",
       "3    8.942805    9.601208   11.392682    9.694814    9.684365    3.292001   \n",
       "4    7.181162    9.846910   11.922439    9.217749    9.461191    5.110372   \n",
       "\n",
       "   gene_20530  \n",
       "0         0.0  \n",
       "1         0.0  \n",
       "2         0.0  \n",
       "3         0.0  \n",
       "4         0.0  \n",
       "\n",
       "[5 rows x 20532 columns]"
      ]
     },
     "execution_count": 4,
     "metadata": {},
     "output_type": "execute_result"
    }
   ],
   "source": [
    "data_df.head()"
   ]
  },
  {
   "cell_type": "code",
   "execution_count": 5,
   "metadata": {},
   "outputs": [
    {
     "name": "stdout",
     "output_type": "stream",
     "text": [
      "data shape: (801, 20532)\n"
     ]
    }
   ],
   "source": [
    "print('data shape: '+str(data_df.shape))"
   ]
  },
  {
   "cell_type": "code",
   "execution_count": 6,
   "metadata": {},
   "outputs": [],
   "source": [
    "from sklearn.preprocessing import StandardScaler\n",
    "from sklearn.decomposition import PCA\n",
    "\n",
    "def reg_PCA(X,k): \n",
    "#     \"\"\"\n",
    "#     function takes an n x p feature matrix and integer k for number of principal directions wanted\n",
    "#     returns two arrays:\n",
    "#     - array with percentages of explained variance in first k principal directions (k x 1)\n",
    "#     - array with principal directions (k x p)\n",
    "#     - array with explained variances\n",
    "#     \"\"\"\n",
    "\n",
    "    X = StandardScaler().fit_transform(X)\n",
    "    pca = PCA(n_components=k)\n",
    "    pca.fit(X)\n",
    "    PEV = pca.explained_variance_ratio_\n",
    "    prin_comp = pca.components_\n",
    "    EV = pca.explained_variance_\n",
    "    \n",
    "    return PEV, prin_comp, EV"
   ]
  },
  {
   "cell_type": "code",
   "execution_count": 8,
   "metadata": {},
   "outputs": [
    {
     "name": "stdout",
     "output_type": "stream",
     "text": [
      "0.10539781350598688\n",
      "0.10539781350598709\n",
      "20289.330000000034\n"
     ]
    }
   ],
   "source": [
    "PCA_PEV, PCA_PC, PCA_EV = reg_PCA(data,min(data.shape[0],data.shape[1]))\n",
    "\n",
    "print(PCA_EV[0]/sum(PCA_EV))\n",
    "print(PCA_PEV[0])\n",
    "print(sum(PCA_EV))"
   ]
  },
  {
   "cell_type": "code",
   "execution_count": 9,
   "metadata": {},
   "outputs": [
    {
     "data": {
      "text/plain": [
       "(801, 20531)"
      ]
     },
     "execution_count": 9,
     "metadata": {},
     "output_type": "execute_result"
    }
   ],
   "source": [
    "PCA_PC.shape"
   ]
  },
  {
   "cell_type": "code",
   "execution_count": 6,
   "metadata": {},
   "outputs": [
    {
     "data": {
      "text/plain": [
       "array([[ 2.13845102e+03, -2.30215846e-12, -1.06403775e-12, ...,\n",
       "        -1.22124533e-15, -2.22044605e-14,  2.54241073e-14],\n",
       "       [-2.28617125e-12,  1.77617511e+03,  9.08428888e-12, ...,\n",
       "        -1.06581410e-14, -4.66293670e-15,  4.21884749e-15],\n",
       "       [-1.05737641e-12,  9.06386077e-12,  1.58461312e+03, ...,\n",
       "         5.27355937e-14,  1.68198788e-14, -4.13002965e-14],\n",
       "       ...,\n",
       "       [-1.02240265e-15, -1.13615714e-14,  4.87168899e-14, ...,\n",
       "         1.99681319e+00,  2.94274154e-15, -2.10118381e-16],\n",
       "       [-1.78411973e-14, -6.02382727e-15,  1.91444083e-14, ...,\n",
       "         2.99131379e-15,  1.96988726e+00,  8.93382590e-17],\n",
       "       [ 2.47675129e-14,  9.40107445e-15, -3.59211189e-14, ...,\n",
       "        -9.65240203e-17,  7.58859551e-17, -6.07181409e-17]])"
      ]
     },
     "execution_count": 6,
     "metadata": {},
     "output_type": "execute_result"
    }
   ],
   "source": [
    "data_scaled = StandardScaler().fit_transform(data)\n",
    "PCA_PC@((1/800)*(data_scaled.T @ data_scaled))@PCA_PC.T"
   ]
  },
  {
   "cell_type": "code",
   "execution_count": 7,
   "metadata": {},
   "outputs": [],
   "source": [
    "def threshold_PCA(X,j,k):\n",
    "#     \"\"\"\n",
    "#     function takes\n",
    "#     - X: n x p feature matrix\n",
    "#     - j: integer for number of non-zero loadings,\n",
    "#     - k: integer for number of principal directions wanted\n",
    "#     returns three arrays:\n",
    "#     - array with percentages of explained variance in first k principal directions (k x 1)\n",
    "#     - array with principal directions (k x p)\n",
    "#     - array with explained variances\n",
    "#     \"\"\"   \n",
    "\n",
    "    PCA_PEV, PCA_PC, PCA_EV = reg_PCA(X,min(X.shape[0],X.shape[1]))\n",
    "    \n",
    "    total_var = sum(PCA_EV) \n",
    "    \n",
    "    thresh_PCA_PC = [] \n",
    "    thresh_PCA_PEV = []\n",
    "    thresh_PCA_EV = []\n",
    "    \n",
    "    for m in range(k):\n",
    "        thresh_PCA_PC_m = list(PCA_PC[m])\n",
    "        thresh_PCA_PC_abs = np.abs(list(PCA_PC[m]))\n",
    "        for i, value in enumerate(thresh_PCA_PC_abs):\n",
    "            if i not in np.flip(np.argsort(thresh_PCA_PC_abs))[:j]:\n",
    "                 thresh_PCA_PC_m[i] = 0\n",
    "        thresh_PCA_PC.append(np.array([thresh_PCA_PC_m]))\n",
    "    \n",
    "    X_scaled = StandardScaler().fit_transform(X)\n",
    "    \n",
    "    \n",
    "    for l in range(k):\n",
    "        thresh_PCA_EV.append(thresh_PCA_PC[l]@((1/(X_scaled.shape[0]-1))*(X_scaled.T @ X_scaled))@thresh_PCA_PC[l].T)\n",
    "        thresh_PCA_PEV.append((thresh_PCA_PC[l]@((1/(X_scaled.shape[0]-1))*(X_scaled.T @ X_scaled))@thresh_PCA_PC[l].T)/total_var)\n",
    "    \n",
    "    return thresh_PCA_PEV, thresh_PCA_PC,thresh_PCA_EV"
   ]
  },
  {
   "cell_type": "code",
   "execution_count": 8,
   "metadata": {},
   "outputs": [],
   "source": [
    "thresh_PCA_PEV_100 = threshold_PCA(data,100,1)[0]\n",
    "thresh_PCA_PEV_500 = threshold_PCA(data,500,1)[0]\n",
    "thresh_PCA_PEV_1000 = threshold_PCA(data,1000,1)[0]\n",
    "thresh_PCA_PEV_5000 = threshold_PCA(data,5000,1)[0]\n",
    "thresh_PCA_PEV_10000 = threshold_PCA(data,10000,1)[0]\n",
    "thresh_PCA_PEV_15000 = threshold_PCA(data,15000,1)[0]\n"
   ]
  },
  {
   "cell_type": "code",
   "execution_count": 9,
   "metadata": {},
   "outputs": [
    {
     "name": "stdout",
     "output_type": "stream",
     "text": [
      "[array([[0.00011003]])]\n",
      "[array([[0.00191965]])]\n",
      "[array([[0.00589362]])]\n",
      "[array([[0.05230118]])]\n",
      "[array([[0.09103797]])]\n",
      "[array([[0.10380471]])]\n"
     ]
    }
   ],
   "source": [
    "print(thresh_PCA_PEV_100)\n",
    "print(thresh_PCA_PEV_500)\n",
    "print(thresh_PCA_PEV_1000)\n",
    "print(thresh_PCA_PEV_5000)\n",
    "print(thresh_PCA_PEV_10000)\n",
    "print(thresh_PCA_PEV_15000)"
   ]
  },
  {
   "cell_type": "code",
   "execution_count": 10,
   "metadata": {},
   "outputs": [],
   "source": [
    "import matplotlib.pyplot as plt\n",
    "\n",
    "def nonzero_load_v_PEV(n_loads,PCA_PEV,thresh_PCA_PEV) :\n",
    "    plt.plot(n_loads,PCA_PEV,label='regular PCA')\n",
    "    plt.plot(n_loads,thresh_PCA_PEV,label='PCA with thresholding')\n",
    "    plt.xlabel('number of non-zero loadings')\n",
    "    plt.ylabel('percentage of explained variance (PEV)')\n",
    "    #plt.xscale('log')\n",
    "    plt.title('percentage of explained variance (PEV) vs non-zero loadings')\n",
    "    plt.legend()"
   ]
  },
  {
   "cell_type": "code",
   "execution_count": 11,
   "metadata": {},
   "outputs": [
    {
     "ename": "NameError",
     "evalue": "name 'PCA_PEVs' is not defined",
     "output_type": "error",
     "traceback": [
      "\u001b[1;31m---------------------------------------------------------------------------\u001b[0m",
      "\u001b[1;31mNameError\u001b[0m                                 Traceback (most recent call last)",
      "\u001b[1;32m<ipython-input-11-575077e11e21>\u001b[0m in \u001b[0;36m<module>\u001b[1;34m\u001b[0m\n\u001b[1;32m----> 1\u001b[1;33m \u001b[0mPCA_PEV\u001b[0m \u001b[1;33m=\u001b[0m \u001b[1;33m[\u001b[0m\u001b[0mPCA_PEVs\u001b[0m\u001b[1;33m[\u001b[0m\u001b[1;36m0\u001b[0m\u001b[1;33m]\u001b[0m\u001b[1;33m]\u001b[0m\u001b[1;33m*\u001b[0m\u001b[1;36m6\u001b[0m\u001b[1;33m\u001b[0m\u001b[1;33m\u001b[0m\u001b[0m\n\u001b[0m\u001b[0;32m      2\u001b[0m \u001b[0mthresh_PCA_PEV\u001b[0m \u001b[1;33m=\u001b[0m \u001b[1;33m[\u001b[0m\u001b[0mthresh_PCA_PEV_100\u001b[0m\u001b[1;33m,\u001b[0m\u001b[0mthresh_PCA_PEV_500\u001b[0m\u001b[1;33m,\u001b[0m\u001b[0mthresh_PCA_PEV_1000\u001b[0m\u001b[1;33m,\u001b[0m\u001b[0mthresh_PCA_PEV_5000\u001b[0m\u001b[1;33m,\u001b[0m\u001b[0mthresh_PCA_PEV_10000\u001b[0m\u001b[1;33m,\u001b[0m\u001b[0mthresh_PCA_PEV_15000\u001b[0m\u001b[1;33m]\u001b[0m\u001b[1;33m\u001b[0m\u001b[1;33m\u001b[0m\u001b[0m\n\u001b[0;32m      3\u001b[0m \u001b[0mn_loads\u001b[0m \u001b[1;33m=\u001b[0m \u001b[1;33m[\u001b[0m\u001b[1;36m100\u001b[0m\u001b[1;33m,\u001b[0m\u001b[1;36m500\u001b[0m\u001b[1;33m,\u001b[0m\u001b[1;36m1000\u001b[0m\u001b[1;33m,\u001b[0m\u001b[1;36m5000\u001b[0m\u001b[1;33m,\u001b[0m\u001b[1;36m10000\u001b[0m\u001b[1;33m,\u001b[0m\u001b[1;36m15000\u001b[0m\u001b[1;33m]\u001b[0m\u001b[1;33m\u001b[0m\u001b[1;33m\u001b[0m\u001b[0m\n\u001b[0;32m      4\u001b[0m \u001b[1;33m\u001b[0m\u001b[0m\n\u001b[0;32m      5\u001b[0m \u001b[0mthresh_PCA_PEV\u001b[0m \u001b[1;33m=\u001b[0m \u001b[0mnp\u001b[0m\u001b[1;33m.\u001b[0m\u001b[0marray\u001b[0m\u001b[1;33m(\u001b[0m\u001b[0mthresh_PCA_PEV\u001b[0m\u001b[1;33m)\u001b[0m\u001b[1;33m.\u001b[0m\u001b[0mflatten\u001b[0m\u001b[1;33m(\u001b[0m\u001b[1;33m)\u001b[0m\u001b[1;33m\u001b[0m\u001b[1;33m\u001b[0m\u001b[0m\n",
      "\u001b[1;31mNameError\u001b[0m: name 'PCA_PEVs' is not defined"
     ]
    }
   ],
   "source": [
    "PCA_PEV = [PCA_PEVs[0]]*6\n",
    "thresh_PCA_PEV = [thresh_PCA_PEV_100,thresh_PCA_PEV_500,thresh_PCA_PEV_1000,thresh_PCA_PEV_5000,thresh_PCA_PEV_10000,thresh_PCA_PEV_15000]\n",
    "n_loads = [100,500,1000,5000,10000,15000]\n",
    "\n",
    "thresh_PCA_PEV = np.array(thresh_PCA_PEV).flatten()\n",
    "thresh_PCA_PEV"
   ]
  },
  {
   "cell_type": "code",
   "execution_count": null,
   "metadata": {},
   "outputs": [],
   "source": [
    "nonzero_load_v_PEV(n_loads,PCA_PEV,thresh_PCA_PEV)"
   ]
  },
  {
   "cell_type": "code",
   "execution_count": null,
   "metadata": {},
   "outputs": [],
   "source": []
  }
 ],
 "metadata": {
  "kernelspec": {
   "display_name": "Python 3",
   "language": "python",
   "name": "python3"
  },
  "language_info": {
   "codemirror_mode": {
    "name": "ipython",
    "version": 3
   },
   "file_extension": ".py",
   "mimetype": "text/x-python",
   "name": "python",
   "nbconvert_exporter": "python",
   "pygments_lexer": "ipython3",
   "version": "3.7.6"
  }
 },
 "nbformat": 4,
 "nbformat_minor": 2
}
