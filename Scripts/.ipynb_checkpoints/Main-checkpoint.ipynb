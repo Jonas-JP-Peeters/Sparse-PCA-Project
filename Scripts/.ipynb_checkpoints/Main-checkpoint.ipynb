{
 "cells": [
  {
   "cell_type": "code",
   "execution_count": 26,
   "metadata": {},
   "outputs": [],
   "source": [
    "import pandas as pd\n",
    "import numpy as np\n",
    "from sklearn.decomposition import PCA\n",
    "from sklearn import preprocessing\n",
    "from sklearn.preprocessing import StandardScaler\n",
    "import matplotlib.pyplot as plt\n",
    "from scipy.optimize import minimize\n",
    "from scipy.linalg import null_space\n",
    "from IPython.display import clear_output\n",
    "from sklearn.linear_model import LassoLars\n",
    "import random\n",
    "import warnings\n",
    "warnings.filterwarnings('ignore')"
   ]
  },
  {
   "cell_type": "markdown",
   "metadata": {},
   "source": [
    "Load the dataset"
   ]
  },
  {
   "cell_type": "code",
   "execution_count": 2,
   "metadata": {},
   "outputs": [],
   "source": [
    "#X = pd.read_csv(\"../Data/data.csv\").drop(['Unnamed: 0'], axis = 1).to_numpy()\n",
    "#y = pd.read_csv(\"../Data/labels.csv\").drop(['Unnamed: 0'], axis = 1).to_numpy()"
   ]
  },
  {
   "cell_type": "code",
   "execution_count": 3,
   "metadata": {},
   "outputs": [],
   "source": [
    "#X_proto = X[1:101, 1:201]\n",
    "#y_proto = y[1:101]"
   ]
  },
  {
   "cell_type": "code",
   "execution_count": 4,
   "metadata": {},
   "outputs": [],
   "source": [
    "X_small = pd.read_csv(\"../Data/BreastTissue.csv\").drop(['Case #'],axis = 1).drop(['Class'],axis=1).to_numpy()\n",
    "y_small = pd.read_csv(\"../Data/BreastTissue.csv\").drop(['Case #'],axis = 1)['Class'].to_numpy()\n",
    "\n",
    "y_small = preprocessing.LabelEncoder().fit_transform(y_small)"
   ]
  },
  {
   "cell_type": "code",
   "execution_count": 37,
   "metadata": {},
   "outputs": [],
   "source": [
    "def gini(array):\n",
    "    \"\"\"Calculate the Gini coefficient of a numpy array.\"\"\"\n",
    "    # based on bottom eq:\n",
    "    # http://www.statsdirect.com/help/generatedimages/equations/equation154.svg\n",
    "    # from:\n",
    "    # http://www.statsdirect.com/help/default.htm#nonparametric_methods/gini.htm\n",
    "    # All values are treated equally, arrays must be 1d:\n",
    "    array = array.flatten()\n",
    "    if np.amin(array) < 0:\n",
    "        # Values cannot be negative:\n",
    "        array -= np.amin(array)\n",
    "    # Values cannot be 0:\n",
    "    array += 0.0000001\n",
    "    # Values must be sorted:\n",
    "    array = np.sort(array)\n",
    "    # Index per array element:\n",
    "    index = np.arange(1,array.shape[0]+1)\n",
    "    # Number of array elements:\n",
    "    n = array.shape[0]\n",
    "    # Gini coefficient:\n",
    "    return ((np.sum((2 * index - n  - 1) * array)) / (n * np.sum(array)))"
   ]
  },
  {
   "cell_type": "code",
   "execution_count": 201,
   "metadata": {},
   "outputs": [],
   "source": [
    "class PCAObject:\n",
    "    def __init__(self, PCs, X, label):\n",
    "        assert len(PCs) == min(X.shape[0],X.shape[1]), \"Need all the principal components!\"\n",
    "        self.pcs = PCs\n",
    "        self.X = StandardScaler().fit_transform(X)\n",
    "        self.cov = np.cov(self.X.T)\n",
    "        self.label = label\n",
    "        \n",
    "        self._calcExpVar()\n",
    "        self._calcNonZeroLoads()\n",
    "        self._calcGini()\n",
    "        self._calcWgtGini()    \n",
    "    \n",
    "    def _calcExpVar(self):\n",
    "        tot_var = np.sum(np.diag(self.cov))\n",
    "        self.ev = np.diag(self.pcs @ np.cov(self.X.T) @ self.pcs.T)/np.linalg.norm(self.pcs, axis = 1)**2\n",
    "        self.ev[np.isnan(self.ev)] = 0\n",
    "        self.pev = [ev/tot_var for ev in self.ev]\n",
    "        self.cev = np.cumsum(np.flip(np.sort(self.pev)))\n",
    "        \n",
    "    def _calcNonZeroLoads(self):\n",
    "        self.nonZeroLoads = [np.count_nonzero(pc) for pc in self.pcs]\n",
    "        \n",
    "    def _calcGini(self):\n",
    "        self.gini = [gini(i) for i in self.pcs]\n",
    "        \n",
    "    def _calcWgtGini(self):\n",
    "        self.wgtGini = np.sum([gini * pev for gini, pev in zip(self.gini, self.pev)])\n",
    "        \n",
    "    def plotNonZeroLoadtoPEV(self):\n",
    "        plt.plot(self.nonZeroLoads, self.pev, label=self.label)\n",
    "        plt.xlabel('Number of non-zero loadings')\n",
    "        plt.xscale('log')\n",
    "        plt.ylabel('Percentage of explained variance (PEV)')\n",
    "        plt.legend()\n",
    "        plt.title('Percentage of explained variance (PEV) vs non-zero loadings')\n",
    "        \n",
    "    def plotCEV(self):\n",
    "        x = np.arange(len(self.pcs))\n",
    "        \n",
    "        plt.plot(x, np.sort(self.cev), label = self.label)\n",
    "        plt.xlabel('Number of component')\n",
    "        plt.ylabel('Cumulative explained variance (CEV)')\n",
    "        plt.legend()\n",
    "        plt.title('Cumulative explained variance (CEV)')\n",
    "        \n",
    "    def plotSparsitytoEV(self,k): #k is which PC you want to plot\n",
    "        plt.scatter(self.gini[k], self.ev[k], label = self.label)\n",
    "        plt.xlabel('Sparsity of PC '+str(k+1))\n",
    "        plt.ylabel('Explained Variance of PC '+str(k+1))\n",
    "        plt.xlim((0,1))\n",
    "        plt.legend()\n",
    "        plt.title('Sparsity of PC versus Expained Variance of PC '+str(k+1))"
   ]
  },
  {
   "cell_type": "code",
   "execution_count": 61,
   "metadata": {},
   "outputs": [],
   "source": [
    "def reg_PCA(X, k = \"all\"): \n",
    "    \"\"\"\n",
    "    function takes an n x p feature matrix\n",
    "    returns two arrays:\n",
    "    - array with percentage of explained variance in first k principal directions (k_comp x 1)\n",
    "    - array with principal directions (k_comp x p)\n",
    "    \"\"\"\n",
    "    X = StandardScaler().fit_transform(X)\n",
    "    if k == \"all\": k = min(X.shape[0],X.shape[1])\n",
    "    pca = PCA(n_components = k)\n",
    "    pca.fit(X)\n",
    "    PEVs = pca.explained_variance_ratio_\n",
    "    prin_comp = pca.components_\n",
    "    EVs = pca.explained_variance_\n",
    "    \n",
    "    return PEVs, prin_comp, EVs"
   ]
  },
  {
   "cell_type": "code",
   "execution_count": 62,
   "metadata": {},
   "outputs": [],
   "source": [
    "def threshold_PCA(X, thresh = 1e-1, k = \"all\"):\n",
    "    \"\"\"\n",
    "    function takes\n",
    "    - X: n x p feature matrix\n",
    "    - thresh: float representing this non-zero cutoff\n",
    "    - k: integer for number of principal directions wanted\n",
    "    returns one array:\n",
    "    - array with principal components in its columns (k x p)\n",
    "    \"\"\"\n",
    "    if k == \"all\": k = min(X.shape[0],X.shape[1])\n",
    "\n",
    "    pcs = reg_PCA(X)[1]\n",
    "    pcs = (np.abs(pcs) >= thresh).astype(int) * pcs\n",
    "    \n",
    "    return pcs[:k]"
   ]
  },
  {
   "cell_type": "code",
   "execution_count": 63,
   "metadata": {},
   "outputs": [],
   "source": [
    "def nonZeroLoad_PCA(X,j, k = \"max\"):\n",
    "    \"\"\"\n",
    "    function takes\n",
    "    - X: n x p feature matrix\n",
    "    - j: integer for number of non-zero loadings,\n",
    "    - k: integer for number of principal directions wanted\n",
    "    returns three arrays:\n",
    "    - array with percentages of explained variance in first k principal directions (k x 1)\n",
    "    - array with principal directions (k x p)\n",
    "    - array with explained variances\n",
    "    \"\"\"   \n",
    "    X_scaled = StandardScaler().fit_transform(X)\n",
    "    if k == \"all\": k = min(X.shape[0],X.shape[1])\n",
    "    \n",
    "    PCA_PEV, PCA_PC, PCA_EV = reg_PCA(X,min(X.shape[0],X.shape[1]))\n",
    "    \n",
    "    total_var = sum(PCA_EV)\n",
    "    \n",
    "    thresh_PCA_PC = np.empty((0,PCA_PC.shape[1]))\n",
    "    thresh_PCA_PEV = []\n",
    "    thresh_PCA_EV = []\n",
    "    \n",
    "    PCA_PC_sorted = np.sort(np.absolute(PCA_PC), axis = 1)\n",
    "    for m in range(k):\n",
    "        thresh = PCA_PC_sorted[m][-j]\n",
    "        thresh_PC = (np.absolute(PCA_PC[m]) >= thresh).astype(int)*PCA_PC[m]\n",
    "        thresh_PCA_PC = np.vstack((thresh_PCA_PC, thresh_PC))\n",
    "    \n",
    "    return thresh_PCA_PC"
   ]
  },
  {
   "cell_type": "code",
   "execution_count": 64,
   "metadata": {},
   "outputs": [],
   "source": [
    "def SimpTrans(r, s, k, X_scaled):\n",
    "    \"\"\"\n",
    "    function takes\n",
    "    - Two directions r and s to transform\n",
    "    - An integer k that restricts the possible directions\n",
    "    - The scaled data matrix X\n",
    "    returns two vectors and three floats\n",
    "    - Two new directions r and s\n",
    "    - Two floats representing the variances explained by the new directions r and s\n",
    "    - One float representing the covariance of the new directions r and s\n",
    "    \"\"\"\n",
    "    # Calculate the covariance matrix for the two directions\n",
    "    cov = np.vstack((r,s)) @ np.cov(X_scaled.T) @ np.vstack((r,s)).T\n",
    "    v_old_r, v_old_s, v_old_rs = cov[0,0], cov[1,1], cov[0,1]\n",
    "    \n",
    "    # Get a list of all possible betas\n",
    "    poss_beta1 = [i/2**k for i in range(-2**k, 2**k+1, 1)]\n",
    "    poss_beta2 = [2**k/i for i in range(-2**k, 2**k+1, 1) if i != 0]\n",
    "    poss_beta = np.sort(list(set(poss_beta1 + poss_beta2)))\n",
    "    \n",
    "    # Calculate the norms of the two directions\n",
    "    l2_r, l2_s = np.linalg.norm(r)**2, np.linalg.norm(s)**2\n",
    "    \n",
    "    # Find the beta that maximizes the variance in the normalized\n",
    "    # direction of the first new principal component\n",
    "    v_r, v_s, v_rs = cov[0,0], cov[1,1], cov[0,1]\n",
    "    a = l2_s*v_rs\n",
    "    b = np.sqrt(l2_r*l2_s)*(v_r - v_s)\n",
    "    c = l2_r*v_rs\n",
    "    discr = b**2 - 4*a*c\n",
    "    beta_star = (-b+np.sqrt(discr))/(2*a)\n",
    "    \n",
    "    # Select beta from possible values that's closest to the optimal value\n",
    "    beta_star = min(list(poss_beta), \n",
    "                    key = lambda x:abs(x-beta_star))\n",
    "    \n",
    "    # Calculate the two new directions\n",
    "    if abs(beta_star) <= 1:\n",
    "        r_new = 2**k*r + 2**k*beta_star*s\n",
    "        s_new = 2**k*beta_star*l2_s*r - 2**k*l2_r*s\n",
    "    else:\n",
    "        r_new = 2**k*r/beta_star + 2**k*s\n",
    "        s_new = 2**k*l2_s*r - 2**k*l2_r*s/beta_star\n",
    "    \n",
    "    # Calculate variances and covariance of the new directions\n",
    "    P = np.array([[1, l2_s*beta_star],[beta_star, -l2_r]])\n",
    "    cov_new = P.T @ cov @ P\n",
    "    v_r, v_s, v_rs = cov_new[0,0], cov_new[1,1], cov_new[0,1]\n",
    "    \n",
    "    return r_new, s_new, v_r, v_s, v_rs"
   ]
  },
  {
   "cell_type": "code",
   "execution_count": 65,
   "metadata": {},
   "outputs": [],
   "source": [
    "def pcPairFinder(cov, cache):\n",
    "    \"\"\"\n",
    "    function takes\n",
    "    - A covariance matrix\n",
    "    - A cache containing the indices of excluded pcs\n",
    "    returns two integers:\n",
    "    - i_r: the index of the first principal component\n",
    "    - i_s: the index of the second principal component\n",
    "    \"\"\"\n",
    "    # Turn covariance matrix into a sparse lower triangular matrix\n",
    "    grid = np.tril(cov, k = -1)\n",
    "    vrs = np.diag(cov)\n",
    "    # Flatten the grid and sort from largest cov to smallest cov\n",
    "    srt = np.sort(np.ravel(grid), kind = 'heapsort')\n",
    "    lst = list(np.flip(np.trim_zeros(srt)))\n",
    "    mask = False\n",
    "    \n",
    "    # Find the pair of pcs that are not already in the cache and hav\n",
    "    # the highest covariance in the grid\n",
    "    while not np.any(mask):\n",
    "        covar = lst.pop(0)\n",
    "        index = np.argwhere(grid == covar)\n",
    "        mask = np.ravel(np.invert(np.any(np.isin(index, cache), axis = 1, keepdims = True)))\n",
    "\n",
    "    # Unpack the indices make sure that the variance of r is larger than the variance of s\n",
    "    index = index[mask,:][0]\n",
    "    i_r = index[np.argmax([vrs[i] for i in index])]\n",
    "    i_s = index[np.argmin([vrs[i] for i in index])]\n",
    "    return i_r, i_s"
   ]
  },
  {
   "cell_type": "code",
   "execution_count": 66,
   "metadata": {},
   "outputs": [],
   "source": [
    "def simple_PCA(X, k, iters = 1):\n",
    "    \"\"\"\n",
    "    function takes\n",
    "    - An unscaled data matrix X\n",
    "    - An integer k that restricts the possible directions\n",
    "    - An integer indicating the number of iterations\n",
    "    returns one array:\n",
    "    - array with principal components in its columns (k x p)\n",
    "    \"\"\"\n",
    "    # Retrieve the principal components and their covariance matrix\n",
    "    n_obs, n_feats = X.shape\n",
    "    q = np.identity(n_obs)\n",
    "    for _ in range(n_feats//n_obs):\n",
    "        q = np.hstack((q,np.identity(n_obs)))\n",
    "    pcs = q[:n_obs,:n_feats]\n",
    "    \n",
    "    cov = np.cov(X.T)\n",
    "    X_scaled = StandardScaler().fit_transform(X)\n",
    "    \n",
    "    # Setup up globals for loop\n",
    "    cov_pc = pcs @ cov @ pcs.T\n",
    "    cache = []\n",
    "    \n",
    "    for _ in range(iters):\n",
    "        while len(cache) <= len(pcs) - 2:\n",
    "            clear_output(wait = True)\n",
    "            print(\"Working on principal component \", len(cache) + 2,\"/\",len(pcs))\n",
    "            \n",
    "            # Find set of principal components to transform\n",
    "            i_r, i_s = pcPairFinder(cov_pc, cache)\n",
    "            r, s = pcs[i_r], pcs[i_s]\n",
    "            cache += [i_r, i_s]\n",
    "            \n",
    "            # Transform the pair of components\n",
    "            print(\"Determining new directions...\")\n",
    "            r_new, s_new, v_r, v_s, v_rs = SimpTrans(r, s, k, X_scaled)\n",
    "\n",
    "            # Update the principal components\n",
    "            pcs[i_r] = r_new\n",
    "            pcs[i_s] = s_new\n",
    "            \n",
    "            # Update the grid matrix\n",
    "            cov_pc[i_s, i_r], cov_pc[i_r, i_s] = v_rs, v_rs\n",
    "    \n",
    "    return pcs"
   ]
  },
  {
   "cell_type": "code",
   "execution_count": 67,
   "metadata": {},
   "outputs": [],
   "source": [
    "def scotlass_pen(x, gamma):\n",
    "    '''\n",
    "    regularization penalty function for SCoTLASS\n",
    "    \n",
    "    function takes \n",
    "    - x: float\n",
    "    - gamma: float\n",
    "    \n",
    "    function returns \n",
    "    - penalty value: float\n",
    "    '''\n",
    "    return (0.5 * x) * (1 + np.tanh(gamma*x))\n",
    "\n",
    "def scotlass_obj(sigma, v, reg_param, gamma):\n",
    "    '''\n",
    "    objective function for SCoTLASS\n",
    "    \n",
    "    function takes\n",
    "    - sigma: p x p covariance matrix\n",
    "    - v: p x 1 vector\n",
    "    - reg_param: regularization parameter (positive float)\n",
    "    - gamma: float\n",
    "    \n",
    "    function returns\n",
    "    - objective function value at v (p x 1 vector)\n",
    "    '''\n",
    "    varimax = (0.5*v.T) @ sigma @ v\n",
    "    argpen = v.T @ np.tanh(1000*v)-reg_param\n",
    "    penalty = gamma * scotlass_pen(argpen, gamma)\n",
    "    return np.array(varimax - penalty).flatten()\n",
    "\n",
    "def scotlass_grad(sigma, v, reg_param, gamma):\n",
    "    '''\n",
    "    gradient of objective function for SCoTLASS\n",
    "    \n",
    "    function takes\n",
    "    - sigma: p x p covariance matrix\n",
    "    - v: p x 1 vector\n",
    "    - reg_param: regularization parameter (positive float)\n",
    "    - gamma: float\n",
    "    \n",
    "    function returns\n",
    "    - gradient of objective function at v\n",
    "    '''\n",
    "    # Setup of parameters\n",
    "    mu = 1000\n",
    "    \n",
    "    # Calculate floats\n",
    "    y = (v.T @ np.tanh(gamma*v))-reg_param\n",
    "    q = 1 + np.tanh(gamma*y) + gamma*np.cosh(gamma*y)**(-2)*y\n",
    "    \n",
    "    # Calculate vectors\n",
    "    z = np.tanh(gamma*v) + gamma * (np.diag(np.ravel(np.cosh(gamma*v)**(-2))) @ v)\n",
    "    \n",
    "    return (sigma @ v) - 0.5*mu*q*z "
   ]
  },
  {
   "cell_type": "code",
   "execution_count": 68,
   "metadata": {},
   "outputs": [],
   "source": [
    "def scotlassGradAsc(sigma, V, reg_param , x0 = 'default', \n",
    "                    alpha = 10**-3, max_iter = 20000, crit = 1e-1000):\n",
    "    '''\n",
    "    function takes\n",
    "    - sigma: p x p covariance matrix\n",
    "    - reg_param: regularization parameter (positive float); Default = sqrt(p)\n",
    "    - x0: Initial value of the vector\n",
    "    - alpha: Step size of gradient descent (<1 for convergence)\n",
    "    - max_iters: max number of steps (positive integer)\n",
    "    - crit: critical stopping value for the gradient descent algorithm\n",
    "    \n",
    "    function returns\n",
    "    - v: first sparse principal direction (array of length p)\n",
    "    - variance of data along v\n",
    "    '''\n",
    "    # Configure the parameters\n",
    "    iters, delta, gamma = 1, 1, 1000\n",
    "    num_obs, num_feat = sigma.shape\n",
    "    \n",
    "    # Configure the regularization parameter\n",
    "#     reg_error = '''\n",
    "#     The regularization parameter needs to be smaller than \n",
    "#     the square root of the number of features in the dataset.\n",
    "#     '''\n",
    "#     if reg_param == 'default': reg_param = np.sqrt(num_feat)\n",
    "#     else: assert reg_param <= np.sqrt(num_feat), reg_error\n",
    "    \n",
    "    # Initialize the algorithm\n",
    "    if x0 == 'default': x0 = np.ones(shape = (num_feat,1))\n",
    "    elif x0 == 'random': x0 = np.random.rand(num_feat,1)\n",
    "    else: pass\n",
    "    v = x0/np.linalg.norm(x0)\n",
    "    \n",
    "    # Projected gradient descent\n",
    "    # Stopping criteria:\n",
    "    # (1) Maximum iterations reached\n",
    "    # (2) Change in objective function negligible\n",
    "    while iters < max_iter and delta > crit:\n",
    "        \n",
    "        # Update the vector\n",
    "        v_new = v + alpha*scotlass_grad(sigma, v, reg_param, gamma)\n",
    "        \n",
    "        # Project loading vector back onto feasible set \n",
    "        # (vectors of l2 norm of 1 that are orthogonal to all other pcs)\n",
    "        v_proj = V @ v_new\n",
    "        v_proj = v_proj/(np.linalg.norm(v_proj))\n",
    "        \n",
    "        # Use the projected loading vector to retrieve the value of the\n",
    "        # objective function\n",
    "        old_obj = scotlass_obj(sigma, v, reg_param, gamma)[0]\n",
    "        updated_obj = scotlass_obj(sigma, v_proj, reg_param, gamma)[0]\n",
    "\n",
    "        # Calculate the difference in value of the objective function\n",
    "        delta = [updated_obj - old_obj][0]\n",
    "        #print(delta)\n",
    "        # Update vector and number of iterations\n",
    "        v, iters = v_proj, iters + 1\n",
    "    \n",
    "    # return loadings array v\n",
    "    return v"
   ]
  },
  {
   "cell_type": "code",
   "execution_count": 69,
   "metadata": {},
   "outputs": [],
   "source": [
    "def SCoTLASS(X, reg_param, x0 = 'default', alpha = 10**-3,\n",
    "             max_iter = 20000, crit = 1e-1000):\n",
    "    '''\n",
    "    function takes\n",
    "    - X: n x p dataset\n",
    "    - reg_param: regularization parameter (positive float); Default = sqrt(p)\n",
    "    - x0: Initial value of the vector\n",
    "    - alpha: Step size of gradient descent (<1 for convergence)\n",
    "    - max_iters: max number of steps (positive integer)\n",
    "    - crit: critical stopping value for the gradient descent algorithm\n",
    "    \n",
    "    function returns\n",
    "    - array with principal components in its columns (n x p)\n",
    "    '''\n",
    "    # Standardize the dataset\n",
    "    X = StandardScaler().fit_transform(X)\n",
    "    sigma = np.cov(X.T)\n",
    "    num_feat = X.shape[1]\n",
    "    num_samp = X.shape[0]\n",
    "    \n",
    "    # Initialize an array for principal components\n",
    "    pcs = np.zeros(shape = (min(X.shape[0],X.shape[1]),X.shape[1]))\n",
    "    \n",
    "    # Initialize projection vector V\n",
    "    V = np.identity(num_feat)\n",
    "    \n",
    "    for _ in range(len(pcs)):\n",
    "        # Find the best principal component\n",
    "        pc = scotlassGradAsc(sigma, V, reg_param, x0, alpha, max_iter, crit)\n",
    "        pcs[_] = pc.T\n",
    "        \n",
    "        # Project the covariance matrix and x0 \n",
    "        # on the orthogonal complement of previous pcs\n",
    "        V = null_space(pcs[:_+1]) @ null_space(pcs[:_+1]).T\n",
    "        sigma = V @ sigma\n",
    "        x0 = V @ np.ones(shape = (num_feat,1))\n",
    "    return pcs"
   ]
  },
  {
   "cell_type": "markdown",
   "metadata": {},
   "source": [
    "For $B\\in \\mathbb{R}^{p\\times m}$:\n",
    "$$\n",
    "Varimax(B) = \\frac{1}{p^2}\\sum_{k=1}^m\\left[\\underbrace{m\\sum_{j=1}^p b_{jk}^4}_{P} - \\underbrace{\\left(\\sum_{j=1}^p b_{jk}^2\\right)^2}_{Q}\\right]\n",
    "$$"
   ]
  },
  {
   "cell_type": "code",
   "execution_count": 70,
   "metadata": {},
   "outputs": [],
   "source": [
    "def varimax(x):\n",
    "    '''\n",
    "    varimax penalty function\n",
    "    \n",
    "    function takes 1 x p vector\n",
    "    \n",
    "    function returns float\n",
    "    '''\n",
    "    #     p, m = B[None,:].shape\n",
    "    #     P = m*np.sum(np.power(B, 4), axis = 0)\n",
    "    #     Q = np.power(np.sum(np.power(B, 2), axis = 0), 2)\n",
    "    #     return 1/p**2 * np.sum(P - Q)\n",
    "    \n",
    "    p = len(x)\n",
    "    varimax = np.sum(np.power(x, 4))\n",
    "    varimax -= (x.T @ x)[0]**2\n",
    "    varimax = varimax/(p**2)\n",
    "    \n",
    "    return varimax\n",
    "\n",
    "def varimax_grad(x):\n",
    "    '''\n",
    "    varimax penalty function gradient\n",
    "    \n",
    "    function takes 1 x p vector\n",
    "    \n",
    "    function returns 1 x p varimax gradient vector'''\n",
    "    p = len(x)\n",
    "    grad = 4*(np.power(x, 3) - (x.T @ x)* x)/(p**2)\n",
    "    \n",
    "    return grad\n",
    "\n",
    "def scot_obj(sigma, v, reg_param):\n",
    "    '''\n",
    "    SCoT objective function\n",
    "    \n",
    "    function takes\n",
    "    - sigma: p x p covariance matrix\n",
    "    - v: 1 x p vector\n",
    "    - reg_param: varimax regularization parameter (positive float)\n",
    "    \n",
    "    function returns float\n",
    "    '''\n",
    "    obj = v.T @ sigma @ v + (reg_param*varimax(v))[0]\n",
    "\n",
    "    return obj\n",
    "\n",
    "def scot_obj_grad(sigma, v, reg_param):\n",
    "    '''\n",
    "    SCoT objective function gradient\n",
    "    \n",
    "    function takes\n",
    "    - sigma: p x p covariance matrix\n",
    "    - v: 1 x p vector\n",
    "    - reg_param: varimax regularization parameter (positive float)\n",
    "    \n",
    "    function returns 1 x p gradient vector\n",
    "    '''\n",
    "    \n",
    "    p = len(v)\n",
    "    grad = np.array((sigma @ v)) + reg_param*varimax_grad(v)\n",
    "    return grad"
   ]
  },
  {
   "cell_type": "code",
   "execution_count": 71,
   "metadata": {},
   "outputs": [],
   "source": [
    "def scotGradAsc(sigma, V, reg_param, x0 = 'default', \n",
    "                    alpha = 10**-3, max_iter = 20000, crit = 1e-1000):\n",
    "    '''\n",
    "    function takes\n",
    "    - sigma: p x p covariance matrix\n",
    "    - reg_param: regularization parameter (positive float); Default = sqrt(p)\n",
    "    - x0: Initial value of the vector\n",
    "    - alpha: Step size of gradient descent (<1 for convergence)\n",
    "    - max_iters: max number of steps (positive integer)\n",
    "    - crit: critical stopping value for the gradient descent algorithm\n",
    "    \n",
    "    function returns\n",
    "    - v: first sparse principal direction (array of length p)\n",
    "    - variance of data along v\n",
    "    '''\n",
    "    # Configure the parameters\n",
    "    iters, delta, gamma = 1, 1, 1000\n",
    "    num_obs, num_feat = sigma.shape\n",
    "    \n",
    "    # Initialize the algorithm\n",
    "    if x0 == 'default': x0 = np.ones(shape = (num_feat,1))\n",
    "    elif x0 == 'random': x0 = np.random.rand(num_feat,1)\n",
    "    else: pass\n",
    "    v = x0/np.linalg.norm(x0)\n",
    "    \n",
    "    # Projected gradient descent\n",
    "    # Stopping criteria:\n",
    "    # (1) Maximum iterations reached\n",
    "    # (2) Change in objective function negligible\n",
    "    while iters < max_iter and delta > crit:\n",
    "        \n",
    "        # Update the vector\n",
    "        v_new = v + alpha*scot_obj_grad(sigma, v, reg_param)\n",
    "        \n",
    "        # Project loading vector back onto feasible set \n",
    "        # (vectors of l2 norm of 1 that are orthogonal to all other pcs)\n",
    "        v_proj = V @ v_new\n",
    "        v_proj = v_proj/(np.linalg.norm(v_proj))\n",
    "        \n",
    "        # Use the projected loading vector to retrieve the value of the\n",
    "        # objective function\n",
    "        old_obj = scot_obj(sigma, v, reg_param)[0]\n",
    "        updated_obj = scot_obj(sigma, v_proj, reg_param)[0]\n",
    "\n",
    "        # Calculate the difference in value of the objective function\n",
    "        delta = [updated_obj - old_obj][0]\n",
    "        \n",
    "        # Update vector and number of iterations\n",
    "        v, iters = v_proj, iters + 1\n",
    "    \n",
    "    # return loadings array v\n",
    "    return v"
   ]
  },
  {
   "cell_type": "code",
   "execution_count": 72,
   "metadata": {},
   "outputs": [],
   "source": [
    "def SCoT(X, reg_param, x0 = 'default', alpha = 10**-3,\n",
    "             max_iter = 20000\n",
    "         \n",
    "         , crit = 1e-1000):\n",
    "    '''\n",
    "    function takes\n",
    "    - X: n x p dataset\n",
    "    - reg_param: regularization parameter (positive float)\n",
    "    - x0: Initial value of the vector\n",
    "    - alpha: Step size of gradient descent (<1 for convergence)\n",
    "    - max_iters: max number of steps (positive integer)\n",
    "    - crit: critical stopping value for the gradient descent algorithm\n",
    "    function returns\n",
    "    \n",
    "    - array with principal components in its columns (n x p)\n",
    "    '''\n",
    "    # Standardize the dataset\n",
    "    X = StandardScaler().fit_transform(X)\n",
    "    sigma = np.cov(X.T)\n",
    "    num_feat = sigma.shape[0]\n",
    "    \n",
    "    # Initialize an array for principal components\n",
    "    pcs = np.zeros(shape = (min(X.shape[0],X.shape[1]),X.shape[1]))\n",
    "    \n",
    "    # Initial vector for gradient descent\n",
    "    if x0 == 'default': x0 = np.ones(shape = (num_feat,1))\n",
    "    elif x0 == 'random': x0 = np.random.rand(num_feat,1)\n",
    "    else: pass\n",
    "    v = x0/np.linalg.norm(x0)\n",
    "    \n",
    "    V = np.identity(X.shape[1])\n",
    "    \n",
    "    for _ in range(len(pcs)):\n",
    "        # Find the best principal component\n",
    "        pc = scotGradAsc(sigma, V, reg_param, x0, alpha, max_iter, crit)\n",
    "        pcs[_] = pc.T\n",
    "        \n",
    "        # Project the covariance matrix and x0 \n",
    "        # on the orthogonal complement of previous pcs\n",
    "        V = null_space(pcs[:_+1]) @ null_space(pcs[:_+1]).T\n",
    "        sigma = V @ sigma\n",
    "        x0 = V @ np.ones(shape = (num_feat,1))\n",
    "        x0 = x0/np.linalg.norm(x0)\n",
    "        \n",
    "    return pcs"
   ]
  },
  {
   "cell_type": "code",
   "execution_count": 73,
   "metadata": {},
   "outputs": [],
   "source": [
    "def SVDProblem(B, X):\n",
    "    '''\n",
    "    function takes\n",
    "    - X: n x p dataset\n",
    "    - B: p x n matrix\n",
    "    \n",
    "    function returns\n",
    "    - A: p x n matrix\n",
    "    '''\n",
    "    U, D, V = np.linalg.svd(X.T @ X @ B)\n",
    "    return U @ V.T"
   ]
  },
  {
   "cell_type": "code",
   "execution_count": 149,
   "metadata": {},
   "outputs": [],
   "source": [
    "def SPCA(X, reg_param, reg_param1, max_iter = 100, crit = 1e-10):\n",
    "    '''\n",
    "    function takes\n",
    "    - X: n x p dataset\n",
    "    - reg_param: regularization parameter (positive float)\n",
    "    - x0: Initial value of the vector\n",
    "    - alpha: Step size of gradient descent (<1 for convergence)\n",
    "    - max_iters: max number of steps (positive integer)\n",
    "    - crit: critical stopping value for the gradient descent algorithm\n",
    "    \n",
    "    function returns\n",
    "    - array with principal components in its columns (n x p)\n",
    "    '''\n",
    "    # (1) Let A start at V[,1:k] the loadings of the first \n",
    "    # k ordinary principal components\n",
    "    A = reg_PCA(X)[1].T\n",
    "    B = np.zeros_like(A)\n",
    "    \n",
    "    # Normalize the dataset\n",
    "    X = StandardScaler().fit_transform(X)\n",
    "    \n",
    "    iters, delta, A_old = 1, 1, A\n",
    "    while iters < max_iter and delta > crit:\n",
    "        # (2) Given a fixed A = [alpha_1, ..., alpha_k], solve the elastic\n",
    "        # net problem for j = 1, 2, ..., k\n",
    "        for i in range(len(A)):\n",
    "            B[i] = LARS_EN(X @ A[:,i].reshape(-1,1), # Target variable\n",
    "                           X,                        # Data\n",
    "                           reg_param,                # l2-norm reg param\n",
    "                           reg_param1)               # l1-norm reg param\n",
    "        \n",
    "        # (3) For a fixed B = [beta_1, ..., beta_k], compute the SVD of \n",
    "        # X^TXB = UDV^T then update A = UV^T\n",
    "        A = SVDProblem(B, X)\n",
    "        \n",
    "        # (4) Repeat steps (2) and (3) until convergence\n",
    "        iters, delta, A_old = iters + 1, np.linalg.norm(A - A_old), A\n",
    "        #print(f\"{iters} delta: {delta}\")\n",
    "    \n",
    "    # (5) Normalize the altered principal components\n",
    "    return (A/np.linalg.norm(A, axis = 1)).T"
   ]
  },
  {
   "cell_type": "markdown",
   "metadata": {},
   "source": [
    "Step 2 (B given A):\n",
    "$$\n",
    "\\hat{\\beta}_j = argmin_{\\beta_j} \\|Y_j - X\\beta_j\\|^2 + \\lambda\\|\\beta_j\\|^2 + \\lambda_{1,j}\\|\\beta_j\\|_1\n",
    "$$\n",
    "with $Y_j = X\\alpha_j$. We can rewrite this as\n",
    "$$\n",
    "\\hat{\\beta}^* = argmin_{\\beta^*} \\|Y^*_j - X^*\\beta^*\\|^2 + \\gamma\\|\\beta^*\\|_1\n",
    "$$\n",
    "with\n",
    "$$\n",
    "X^* = (1 + \\lambda)^{-1/2}\\begin{pmatrix}X\\\\\\sqrt{\\lambda I}\\end{pmatrix}\\in\\mathbb{R}^{(n+p)\\times p},\\qquad Y^* = \\begin{pmatrix}Y\\\\0\\end{pmatrix}\\in\\mathbb{R}^{n+p}\n",
    "$$\n",
    "and\n",
    "$$\n",
    "\\gamma = \\frac{\\lambda_{1,j}}{\\sqrt{1+\\lambda}}\n",
    "$$\n",
    "From $\\beta^*$ we can find $\\hat{\\beta_j}$:\n",
    "$$\n",
    "\\hat{\\beta}=\\frac{1}{\\sqrt{1+\\lambda}}\\hat{\\beta}^*\n",
    "$$"
   ]
  },
  {
   "cell_type": "code",
   "execution_count": 150,
   "metadata": {},
   "outputs": [],
   "source": [
    "def LARS_EN(Y, X, reg_param, reg_param1):\n",
    "    '''\n",
    "    function takes\n",
    "    - Y: p x 1 target variable\n",
    "    - X: n x p dataset\n",
    "    - reg_param: regularization parameter for l2-norm\n",
    "    - reg_param1: regularization parameter for l1-norm\n",
    "    \n",
    "    function returns\n",
    "    - beta: 1 x p vector with coefficients\n",
    "    '''\n",
    "    # Find the number of features\n",
    "    p = X.shape[1]\n",
    "    \n",
    "    # Create the artificial dataset for the naïve elastic net\n",
    "    X = np.power(1 + reg_param, -0.5) * np.vstack((X, np.sqrt(reg_param)*np.identity(p)))\n",
    "    Y = np.vstack((Y, np.zeros(shape = (p,1))))\n",
    "    gamma = reg_param1/np.sqrt(1 + reg_param)\n",
    "    \n",
    "    # Use the LARS (Efron 2004) algorithm to solve this lasso regression\n",
    "    lasso = LassoLars(alpha = gamma,\n",
    "                      fit_intercept = False,\n",
    "                      normalize = False,\n",
    "                      max_iter = 1000)\n",
    "    lasso.fit(X, Y)\n",
    "    \n",
    "    # Transform the found coefficients in the elastic net coefficients\n",
    "    beta = lasso.coef_/(1 + reg_param)\n",
    "    \n",
    "    return beta"
   ]
  },
  {
   "cell_type": "code",
   "execution_count": 153,
   "metadata": {},
   "outputs": [],
   "source": [
    "reg_SPCA = PCAObject(SPCA(X_small, 0, 2), X_small, \"SPCA\")"
   ]
  },
  {
   "cell_type": "code",
   "execution_count": 198,
   "metadata": {},
   "outputs": [
    {
     "data": {
      "text/plain": [
       "array([[-0.01564445,  0.        ,  0.        , -0.00162117, -0.99976882,\n",
       "         0.        ,  0.        , -0.00236988, -0.01446787],\n",
       "       [ 0.74713005,  0.        ,  0.        ,  0.        ,  0.        ,\n",
       "         0.        ,  0.        ,  0.        ,  0.66467788],\n",
       "       [ 0.24671096,  0.        ,  0.        ,  0.7916276 ,  0.        ,\n",
       "         0.        ,  0.        ,  0.55897977,  0.00102986],\n",
       "       [ 1.        ,  0.        ,  0.        ,  0.        ,  0.        ,\n",
       "         0.        ,  0.        ,  0.        ,  0.        ],\n",
       "       [ 0.26828535,  0.        ,  0.        ,  0.49821766,  0.        ,\n",
       "         0.        ,  0.79965955,  0.        ,  0.20086499],\n",
       "       [ 0.        ,  0.        ,  0.        ,  0.        ,  0.        ,\n",
       "         0.        ,  0.        ,  1.        ,  0.        ],\n",
       "       [ 0.        ,  0.        ,  0.        ,  0.        ,  0.        ,\n",
       "         0.        , -0.04885837,  0.        , -0.99880572],\n",
       "       [ 0.        ,  0.        ,  0.        ,  0.        ,  0.        ,\n",
       "         0.96094911,  0.27672514,  0.        ,  0.        ],\n",
       "       [ 0.        ,  0.        ,  0.        ,  0.        ,  0.        ,\n",
       "         0.        ,  0.        ,  0.        ,  0.        ]])"
      ]
     },
     "execution_count": 198,
     "metadata": {},
     "output_type": "execute_result"
    }
   ],
   "source": [
    "reg_SPCA.pcs"
   ]
  },
  {
   "cell_type": "code",
   "execution_count": 158,
   "metadata": {},
   "outputs": [],
   "source": [
    "from sklearn.decomposition import SparsePCA"
   ]
  },
  {
   "cell_type": "code",
   "execution_count": 208,
   "metadata": {},
   "outputs": [
    {
     "data": {
      "text/plain": [
       "SparsePCA(U_init=None, V_init=None, alpha=1, max_iter=1000, method='lars',\n",
       "          n_components=9, n_jobs=None, normalize_components='deprecated',\n",
       "          random_state=None, ridge_alpha=0.01, tol=1e-08, verbose=False)"
      ]
     },
     "execution_count": 208,
     "metadata": {},
     "output_type": "execute_result"
    }
   ],
   "source": [
    "spca = SparsePCA(n_components = 9, alpha = 1, ridge_alpha = 0.01)\n",
    "spca.fit(X_small)"
   ]
  },
  {
   "cell_type": "code",
   "execution_count": 209,
   "metadata": {},
   "outputs": [],
   "source": [
    "reg_SPCA = PCAObject(spca.components_, X_small, \"SPCA - sklearn\")"
   ]
  },
  {
   "cell_type": "code",
   "execution_count": 242,
   "metadata": {},
   "outputs": [
    {
     "data": {
      "text/plain": [
       "array([[ 1.00000000e+00, -1.12885510e-02, -9.24609085e-03,\n",
       "         0.00000000e+00, -7.49098531e-03, -7.74824492e-05,\n",
       "         9.29765209e-03,  0.00000000e+00, -9.84471003e-04],\n",
       "       [-1.12885510e-02,  1.00000000e+00,  8.23532013e-01,\n",
       "         0.00000000e+00,  6.55743701e-01,  0.00000000e+00,\n",
       "        -7.61321540e-01,  0.00000000e+00,  0.00000000e+00],\n",
       "       [-9.24609085e-03,  8.23532013e-01,  1.00000000e+00,\n",
       "         0.00000000e+00,  5.68428962e-01,  1.95879502e-01,\n",
       "        -3.74424735e-01,  0.00000000e+00,  3.64862132e-01],\n",
       "       [ 0.00000000e+00,  0.00000000e+00,  0.00000000e+00,\n",
       "         0.00000000e+00,  0.00000000e+00,  0.00000000e+00,\n",
       "         0.00000000e+00,  0.00000000e+00,  0.00000000e+00],\n",
       "       [-7.49098531e-03,  6.55743701e-01,  5.68428962e-01,\n",
       "         0.00000000e+00,  1.00000000e+00,  0.00000000e+00,\n",
       "        -5.02744582e-01, -2.47589440e-03,  8.40737532e-02],\n",
       "       [-7.74824492e-05,  0.00000000e+00,  1.95879502e-01,\n",
       "         0.00000000e+00,  0.00000000e+00,  1.00000000e+00,\n",
       "         0.00000000e+00,  0.00000000e+00,  1.00235117e-02],\n",
       "       [ 9.29765209e-03, -7.61321540e-01, -3.74424735e-01,\n",
       "         0.00000000e+00, -5.02744582e-01,  0.00000000e+00,\n",
       "         1.00000000e+00,  0.00000000e+00,  0.00000000e+00],\n",
       "       [ 0.00000000e+00,  0.00000000e+00,  0.00000000e+00,\n",
       "         0.00000000e+00, -2.47589440e-03,  0.00000000e+00,\n",
       "         0.00000000e+00,  1.00000000e+00,  0.00000000e+00],\n",
       "       [-9.84471003e-04,  0.00000000e+00,  3.64862132e-01,\n",
       "         0.00000000e+00,  8.40737532e-02,  1.00235117e-02,\n",
       "         0.00000000e+00,  0.00000000e+00,  1.00000000e+00]])"
      ]
     },
     "execution_count": 242,
     "metadata": {},
     "output_type": "execute_result"
    }
   ],
   "source": [
    "spca.components_ @ spca.components_.T"
   ]
  },
  {
   "cell_type": "code",
   "execution_count": 211,
   "metadata": {},
   "outputs": [],
   "source": [
    "reg_SPCA_home = PCAObject(SPCA(X_small, 0.01, 1), X_small, \"SPCA - home\")"
   ]
  },
  {
   "cell_type": "code",
   "execution_count": 154,
   "metadata": {},
   "outputs": [],
   "source": [
    "reg_reg = PCAObject(reg_PCA(X_small)[1], X_small, \"Regular\")\n",
    "reg_scotlass_1pt5= PCAObject(SCoTLASS(X_small,1.5,alpha = 10**-6, max_iter=100000), X_small, \"SCoTLASS 1.5\")"
   ]
  },
  {
   "cell_type": "code",
   "execution_count": 244,
   "metadata": {},
   "outputs": [
    {
     "data": {
      "text/plain": [
       "array([[ 1.00000000e+00, -1.22235481e-16,  1.22619664e-16,\n",
       "         1.52960694e-16, -1.38209108e-16, -9.83658865e-17,\n",
       "         5.89158754e-17, -3.88816299e-16, -6.63782321e-17],\n",
       "       [-1.22235481e-16,  1.00000000e+00,  1.64419584e-16,\n",
       "         9.69704269e-17, -2.02688171e-16, -4.08747718e-17,\n",
       "        -1.14537806e-17, -6.00265080e-17,  1.73851686e-16],\n",
       "       [ 1.22619664e-16,  1.64419584e-16,  1.00000000e+00,\n",
       "         2.47482926e-16,  3.88810724e-16, -4.98829208e-17,\n",
       "        -1.46377259e-16, -4.20213449e-16, -1.64948186e-16],\n",
       "       [ 1.52960694e-16,  9.69704269e-17,  2.47482926e-16,\n",
       "         1.00000000e+00,  1.74333618e-16, -3.94283314e-16,\n",
       "         3.12834418e-17,  2.59424776e-17,  1.65002932e-16],\n",
       "       [-1.38209108e-16, -2.02688171e-16,  3.88810724e-16,\n",
       "         1.74333618e-16,  1.00000000e+00,  3.05162870e-17,\n",
       "        -4.17221618e-16,  4.69447208e-17, -9.21056217e-17],\n",
       "       [-9.83658865e-17, -4.08747718e-17, -4.98829208e-17,\n",
       "        -3.94283314e-16,  3.05162870e-17,  1.00000000e+00,\n",
       "        -8.60370235e-17,  1.07424587e-16, -7.59293189e-18],\n",
       "       [ 5.89158754e-17, -1.14537806e-17, -1.46377259e-16,\n",
       "         3.12834418e-17, -4.17221618e-16, -8.60370235e-17,\n",
       "         1.00000000e+00, -3.95113099e-17, -1.51947011e-17],\n",
       "       [-3.88816299e-16, -6.00265080e-17, -4.20213449e-16,\n",
       "         2.59424776e-17,  4.69447208e-17,  1.07424587e-16,\n",
       "        -3.95113099e-17,  1.00000000e+00,  7.85794383e-21],\n",
       "       [-6.63782321e-17,  1.73851686e-16, -1.64948186e-16,\n",
       "         1.65002932e-16, -9.21056217e-17, -7.59293189e-18,\n",
       "        -1.51947011e-17,  7.85794383e-21,  1.00000000e+00]])"
      ]
     },
     "execution_count": 244,
     "metadata": {},
     "output_type": "execute_result"
    }
   ],
   "source": [
    "reg_SPCA_home.pcs @ reg_SPCA_home.pcs.T"
   ]
  },
  {
   "cell_type": "code",
   "execution_count": 212,
   "metadata": {},
   "outputs": [
    {
     "name": "stdout",
     "output_type": "stream",
     "text": [
      "Weighted Gini SPCA:  0.933087738215173\n",
      "Weighted Gini Regular PCA:  0.28689623505402956\n",
      "Weighted Gini SCoTLASS:  0.6281546404203204\n"
     ]
    }
   ],
   "source": [
    "print(\"Weighted Gini SPCA: \", reg_SPCA.wgtGini)\n",
    "print(\"Weighted Gini Regular PCA: \", reg_reg.wgtGini)\n",
    "print(\"Weighted Gini SCoTLASS: \", reg_scotlass_1pt5.wgtGini)"
   ]
  },
  {
   "cell_type": "code",
   "execution_count": 218,
   "metadata": {},
   "outputs": [
    {
     "data": {
      "text/plain": [
       "SparsePCA(U_init=None, V_init=None, alpha=1.5, max_iter=1000, method='lars',\n",
       "          n_components=9, n_jobs=None, normalize_components='deprecated',\n",
       "          random_state=None, ridge_alpha=0, tol=1e-08, verbose=False)"
      ]
     },
     "execution_count": 218,
     "metadata": {},
     "output_type": "execute_result"
    }
   ],
   "source": [
    "spca = SparsePCA(n_components = 9, alpha = 1.5, ridge_alpha = 0)\n",
    "spca.fit(X_small)"
   ]
  },
  {
   "cell_type": "code",
   "execution_count": 220,
   "metadata": {},
   "outputs": [],
   "source": [
    "reg_SCoTLASS = PCAObject(spca.components_, X_small, \"SCoTLASS - sklearn\")"
   ]
  },
  {
   "cell_type": "code",
   "execution_count": 230,
   "metadata": {},
   "outputs": [
    {
     "data": {
      "text/plain": [
       "(9,)"
      ]
     },
     "execution_count": 230,
     "metadata": {},
     "output_type": "execute_result"
    }
   ],
   "source": [
    "np.linalg.norm(reg_scotlass_1pt5.pcs, axis = 0).shape"
   ]
  },
  {
   "cell_type": "code",
   "execution_count": 241,
   "metadata": {},
   "outputs": [
    {
     "data": {
      "text/plain": [
       "array([[ 0.33569344,  0.31638492,  0.32443923,  0.33799191,  0.3365291 ,\n",
       "         0.33784348,  0.3387821 ,  0.33540171,  0.33623426],\n",
       "       [-0.14714254,  0.78062857,  0.43622256, -0.21004238, -0.13178697,\n",
       "        -0.16612853, -0.2276789 , -0.10777363, -0.16168137],\n",
       "       [ 0.54792784,  0.12871367, -0.26246572, -0.02224036, -0.18880366,\n",
       "        -0.5322747 , -0.28826236,  0.21576044,  0.40646531],\n",
       "       [ 0.19305372,  0.0421849 , -0.11619399, -0.53939557,  0.65750017,\n",
       "         0.0637594 , -0.06582942, -0.4242346 ,  0.18926655],\n",
       "       [-0.15225322, -0.12623693,  0.108019  ,  0.15937332,  0.59962894,\n",
       "        -0.3778884 , -0.30956074,  0.4499222 , -0.35100268],\n",
       "       [ 0.1862948 , -0.46366517,  0.74421735, -0.18175239, -0.10174997,\n",
       "        -0.31718063,  0.16908267, -0.1254397 ,  0.09019306],\n",
       "       [ 0.34710973,  0.02315392, -0.09286879, -0.55847873, -0.12924551,\n",
       "         0.14613717,  0.2824308 ,  0.46016829, -0.47840688],\n",
       "       [ 0.17616378, -0.19730402,  0.21853252, -0.06964082, -0.11655317,\n",
       "         0.55320811, -0.73484806,  0.12572043,  0.04472123],\n",
       "       [ 0.56458719,  0.04226961, -0.01229342,  0.41835312,  0.0350727 ,\n",
       "        -0.00911066, -0.04212689, -0.45126198, -0.54548966]])"
      ]
     },
     "execution_count": 241,
     "metadata": {},
     "output_type": "execute_result"
    }
   ],
   "source": [
    "reg_scotlass_1pt5= PCAObject(SCoTLASS(X_small,3,alpha = 10**-6, max_iter=100000), X_small, \"SCoTLASS 1.5\")\n",
    "reg_scotlass_1pt5.pcs"
   ]
  },
  {
   "cell_type": "code",
   "execution_count": 227,
   "metadata": {},
   "outputs": [
    {
     "data": {
      "text/plain": [
       "array([[-0.015647  ,  0.        ,  0.        , -0.00161483, -0.99976852,\n",
       "         0.        ,  0.        , -0.00237073, -0.01448599],\n",
       "       [ 0.74739775,  0.        ,  0.        ,  0.        ,  0.        ,\n",
       "         0.        ,  0.        ,  0.        ,  0.66437685],\n",
       "       [ 0.24559443,  0.        ,  0.        ,  0.79132917,  0.        ,\n",
       "         0.        ,  0.        ,  0.55989324,  0.00104262],\n",
       "       [ 1.        ,  0.        ,  0.        ,  0.        ,  0.        ,\n",
       "         0.        ,  0.        ,  0.        ,  0.        ],\n",
       "       [ 0.26822046,  0.        ,  0.        ,  0.50063525,  0.        ,\n",
       "         0.        ,  0.7996824 ,  0.        ,  0.19475676],\n",
       "       [ 0.        ,  0.        ,  0.        ,  0.        ,  0.        ,\n",
       "         0.        ,  0.        ,  1.        ,  0.        ],\n",
       "       [ 0.        ,  0.        ,  0.        ,  0.        ,  0.        ,\n",
       "         0.        , -0.04971813,  0.        , -0.99876329],\n",
       "       [ 0.        ,  0.        ,  0.        ,  0.        ,  0.        ,\n",
       "         0.        ,  0.        ,  0.        ,  0.        ],\n",
       "       [ 0.        ,  0.        ,  0.        ,  0.        ,  0.        ,\n",
       "         0.96081301,  0.27719733,  0.        ,  0.        ]])"
      ]
     },
     "execution_count": 227,
     "metadata": {},
     "output_type": "execute_result"
    }
   ],
   "source": [
    "reg_SPCA.pcs"
   ]
  },
  {
   "cell_type": "code",
   "execution_count": 222,
   "metadata": {},
   "outputs": [
    {
     "data": {
      "image/png": "[encoded data removed]",
      "text/plain": [
       "<Figure size 432x288 with 1 Axes>"
      ]
     },
     "metadata": {
      "needs_background": "light"
     },
     "output_type": "display_data"
    }
   ],
   "source": [
    "reg_SPCA.plotCEV()\n",
    "reg_SCoTLASS.plotCEV()\n",
    "reg_SPCA_home.plotCEV()\n",
    "reg_reg.plotCEV()\n",
    "reg_scotlass_1pt5.plotCEV()"
   ]
  },
  {
   "cell_type": "code",
   "execution_count": null,
   "metadata": {},
   "outputs": [],
   "source": [
    "# MAKE SURE TO PROPERLY TUNE STEP SIZE TO REG_PARAM!!!!!\n",
    "# MAKE SURE TO PROPERLY TUNE STEP SIZE TO REG_PARAM!!!!!\n",
    "# MAKE SURE TO PROPERLY TUNE STEP SIZE TO REG_PARAM!!!!!\n",
    "\n",
    "reg_thresh = PCAObject(threshold_PCA(X_small), X_small, \"Thresh\")\n",
    "reg_reg = PCAObject(reg_PCA(X_small)[1], X_small, \"Regular\")\n",
    "reg_scot_100 = PCAObject(SCoT(X_small, 100, alpha = 10**-3), X_small, \"SCoT 100\")\n",
    "reg_scot_500 = PCAObject(SCoT(X_sxmall, 500, alpha = 10**-3), X_small, \"SCoT 500\")\n",
    "reg_scotlass_1 = PCAObject(SCoTLASS(X_small,1,alpha = 10**-6, ), X_small, \"SCoTLASS 1\")\n",
    "reg_scotlass_2 = PCAObject(SCoTLASS(X_small,2,alpha = 10**-5, max_iter=50000), X_small, \"SCoTLASS 2\")\n",
    "reg_scotlass_2pt5= PCAObject(SCoTLASS(X_small,2.5,alpha = 10**-5, max_iter=50000), X_small, \"SCoTLASS 2.5\")\n",
    "reg_scotlass_4 = PCAObject(SCoTLASS(X_small, 4,alpha = 10**-3), X_small, \"SCoTLASS 4\")"
   ]
  },
  {
   "cell_type": "code",
   "execution_count": null,
   "metadata": {},
   "outputs": [],
   "source": [
    "reg_scotlass_1pt5= PCAObject(SCoTLASS(X_small,1.5,alpha = 10**-6, max_iter=100000), X_small, \"SCoTLASS 1.5\")"
   ]
  },
  {
   "cell_type": "code",
   "execution_count": null,
   "metadata": {},
   "outputs": [],
   "source": [
    "reg_scotlass_1pt6= PCAObject(SCoTLASS(X_small,1.6,alpha = 2*10**-6, max_iter=100000), X_small, \"SCoTLASS 1.6\")"
   ]
  },
  {
   "cell_type": "code",
   "execution_count": null,
   "metadata": {},
   "outputs": [],
   "source": [
    "reg_scotlass_1pt7= PCAObject(SCoTLASS(X_small,1.7,alpha = 4*10**-6, max_iter=100000), X_small, \"SCoTLASS 1.7\")"
   ]
  },
  {
   "cell_type": "code",
   "execution_count": null,
   "metadata": {},
   "outputs": [],
   "source": [
    "reg_scotlass_1pt8= PCAObject(SCoTLASS(X_small,1.8,alpha = 5*10**-6, max_iter=100000), X_small, \"SCoTLASS 1.8\")"
   ]
  },
  {
   "cell_type": "code",
   "execution_count": null,
   "metadata": {
    "scrolled": true
   },
   "outputs": [],
   "source": [
    "reg_thresh.plotCEV()\n",
    "reg_reg.plotCEV()\n",
    "reg_scot_100.plotCEV()\n",
    "reg_scot_500.plotCEV()\n",
    "reg_scotlass_2.plotCEV()\n",
    "reg_scotlass_4.plotCEV()"
   ]
  },
  {
   "cell_type": "code",
   "execution_count": null,
   "metadata": {},
   "outputs": [],
   "source": [
    "reg_reg.calcExpVar()\n",
    "reg_scot_100.calcExpVar()\n",
    "reg_scot_500.calcExpVar()\n",
    "reg_scotlass_1.calcExpVar()\n",
    "reg_scotlass_1pt5.calcExpVar()\n",
    "reg_scotlass_1pt6.calcExpVar()\n",
    "reg_scotlass_1pt7.calcExpVar()\n",
    "reg_scotlass_1pt8.calcExpVar()\n",
    "reg_scotlass_2.calcExpVar()\n",
    "reg_scotlass_2pt5.calcExpVar()\n",
    "\n",
    "reg_reg.plotSparsitytoEV(0)\n",
    "reg_scotlass_1.plotSparsitytoEV(0)\n",
    "reg_scotlass_1pt5.plotSparsitytoEV(0)\n",
    "reg_scotlass_1pt6.plotSparsitytoEV(0)\n",
    "reg_scotlass_1pt7.plotSparsitytoEV(0)\n",
    "reg_scotlass_1pt8.plotSparsitytoEV(0)"
   ]
  },
  {
   "cell_type": "code",
   "execution_count": null,
   "metadata": {},
   "outputs": [],
   "source": [
    "x = np.arange(len(reg_reg.pcs))\n",
    "\n",
    "vm_reg = np.apply_along_axis(varimax, axis = 1, arr = reg_reg.pcs)\n",
    "vm_scot = np.apply_along_axis(varimax, axis = 1, arr = reg_scot.pcs)\n",
    "\n",
    "plt.plot(x, vm_reg, label = \"regular\")\n",
    "plt.plot(x, vm_scot, label = \"SCoT\")\n",
    "plt.xlabel('Number of component')\n",
    "plt.ylabel('Varimax criterion')\n",
    "plt.legend()\n",
    "plt.title(' ')"
   ]
  },
  {
   "cell_type": "code",
   "execution_count": null,
   "metadata": {},
   "outputs": [],
   "source": [
    "plt.hist(reg_scotlass_1pt8.pcs[0])"
   ]
  },
  {
   "cell_type": "code",
   "execution_count": null,
   "metadata": {},
   "outputs": [],
   "source": [
    "np.sum(np.apply_along_axis(varimax, axis = 1, arr = reg_scotlass_14.pcs))"
   ]
  },
  {
   "cell_type": "code",
   "execution_count": null,
   "metadata": {},
   "outputs": [],
   "source": [
    "np.sum(np.apply_along_axis(varimax, axis = 1, arr = reg_scot.pcs))"
   ]
  },
  {
   "cell_type": "code",
   "execution_count": null,
   "metadata": {},
   "outputs": [],
   "source": [
    "# def gini(x):\n",
    "#     # (Warning: This is a concise implementation, but it is O(n**2)\n",
    "#     # in time and memory, where n = len(x).  *Don't* pass in huge\n",
    "#     # samples!)\n",
    "\n",
    "#     # Mean absolute difference\n",
    "#     mad = np.abs(np.subtract.outer(x, x)).mean()\n",
    "#     # Relative mean absolute difference\n",
    "#     rmad = mad/np.mean(x)\n",
    "#     # Gini coefficient\n",
    "#     g = 0.5 * rmad\n",
    "#     return g\n",
    "\n",
    "# gini coefficient method from Olivia Guest: https://github.com/oliviaguest/gini"
   ]
  }
 ],
 "metadata": {
  "kernelspec": {
   "display_name": "Python 3",
   "language": "python",
   "name": "python3"
  },
  "language_info": {
   "codemirror_mode": {
    "name": "ipython",
    "version": 3
   },
   "file_extension": ".py",
   "mimetype": "text/x-python",
   "name": "python",
   "nbconvert_exporter": "python",
   "pygments_lexer": "ipython3",
   "version": "3.7.6"
  }
 },
 "nbformat": 4,
 "nbformat_minor": 4
}
