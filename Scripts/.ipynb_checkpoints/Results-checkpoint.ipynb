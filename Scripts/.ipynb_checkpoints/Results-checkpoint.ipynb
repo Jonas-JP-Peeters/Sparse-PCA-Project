{
 "cells": [
  {
   "cell_type": "code",
   "execution_count": 19,
   "metadata": {},
   "outputs": [],
   "source": [
    "from sparse_pca import *\n",
    "import pandas as pd\n",
    "from sklearn.decomposition import SparsePCA\n",
    "from datetime import datetime\n",
    "from scipy.linalg import orth\n",
    "import numpy as np\n",
    "\n",
    "plt.rc('text', usetex=True)\n",
    "plt.rc('text.latex', preamble=r'\\usepackage{siunitx}')"
   ]
  },
  {
   "cell_type": "markdown",
   "metadata": {},
   "source": [
    "Load the dataset"
   ]
  },
  {
   "cell_type": "code",
   "execution_count": 2,
   "metadata": {},
   "outputs": [],
   "source": [
    "X_small = pd.read_csv(\"../Data/BreastTissue.csv\").drop(['Case #'],axis = 1).drop(['Class'],axis=1).to_numpy()\n",
    "y_small = pd.read_csv(\"../Data/BreastTissue.csv\").drop(['Case #'],axis = 1)['Class'].to_numpy()\n",
    "\n",
    "y_small = preprocessing.LabelEncoder().fit_transform(y_small)"
   ]
  },
  {
   "cell_type": "code",
   "execution_count": 3,
   "metadata": {},
   "outputs": [],
   "source": [
    "class PCAObject:\n",
    "    def __init__(self, PCs, X, label):\n",
    "        assert len(PCs) == min(X.shape[0],X.shape[1]), \"Need all the principal components!\"\n",
    "        self.pcs = PCs\n",
    "        self.X = StandardScaler(with_mean = False).fit_transform(X)\n",
    "        self.cov = np.cov(self.X.T)\n",
    "        self.label = label\n",
    "        \n",
    "        self._calcExpVar()\n",
    "        self._calcNonZeroLoads()\n",
    "        self._calcGini()\n",
    "        self._calcSparsity()    \n",
    "    \n",
    "    def _checkOrtho(self):\n",
    "        # Check if the Principal components are orthogonal\n",
    "        norm = np.linalg.norm(self.pcs @ self.pcs.T - np.identity(len(self.pcs)))\n",
    "        return norm < 1e-2\n",
    "    \n",
    "    def _calcExpVar(self):\n",
    "        self.ev = Adj_Var(self.X, self.pcs)\n",
    "        self.pev = self.ev/np.sum(self.ev)\n",
    "        self.cev = np.cumsum(np.flip(np.sort(self.pev)))\n",
    "        self.evd = gini(np.asarray(self.pev))\n",
    "        \n",
    "    def _calcNonZeroLoads(self):\n",
    "        self.nonZeroLoads = [np.count_nonzero(pc) for pc in self.pcs]\n",
    "        \n",
    "    def _calcGini(self):\n",
    "        self.gini = [gini(i) for i in self.pcs]\n",
    "        \n",
    "    def _calcSparsity(self):\n",
    "        self.sparsity = np.sum([gini * pev for gini, pev in zip(self.gini, self.pev)])\n",
    "        \n",
    "    def plotNonZeroLoadtoPEV(self):\n",
    "        plt.plot(self.nonZeroLoads, self.pev, label=self.label)\n",
    "        plt.xlabel('Number of non-zero loadings')\n",
    "        plt.xscale('log')\n",
    "        plt.ylabel('Percentage of explained variance (PEV)')\n",
    "        plt.legend()\n",
    "        plt.title('Percentage of explained variance (PEV) vs non-zero loadings')\n",
    "        \n",
    "    def plotCEV(self):\n",
    "        x = np.arange(len(self.pcs))\n",
    "        \n",
    "        plt.plot(x, np.sort(self.cev), label = self.label)\n",
    "        plt.xlabel('Number of component')\n",
    "        plt.ylabel('Cumulative explained variance (CEV)')\n",
    "        plt.legend()\n",
    "        plt.title('Cumulative explained variance (CEV)')\n",
    "        \n",
    "    def plotSparsitytoEV(self,k): #k is which PC you want to plot\n",
    "        plt.scatter(self.gini[k], self.ev[k], label = self.label)\n",
    "        plt.xlabel('Sparsity of PC '+str(k+1))\n",
    "        plt.ylabel('Explained Variance of PC '+str(k+1))\n",
    "        plt.xlim((0,1))\n",
    "        plt.legend()\n",
    "        plt.title('Sparsity of PC versus Expained Variance of PC '+str(k+1))\n",
    "        \n",
    "    def plotSparsity(self):\n",
    "        x = np.arange(len(self.pcs))\n",
    "        y = np.flip(np.sort(self.gini))\n",
    "        \n",
    "        plt.scatter(x, y)\n",
    "        plt.plot(x, y, label = self.label)\n",
    "        plt.xlabel('Number of component')\n",
    "        plt.ylabel('Sparsity of Loadings')\n",
    "        plt.legend()\n",
    "        plt.title('Sparsity of Components')"
   ]
  },
  {
   "cell_type": "markdown",
   "metadata": {},
   "source": [
    "We want four rows: PCA, SCoT, SCoTLASS, SPCA for their \"best\" specification. We will show the difference within each model in tables and figures in the appendix. Columns containing: Weighted Gini coefficient, distribution of explained variance"
   ]
  },
  {
   "cell_type": "code",
   "execution_count": 4,
   "metadata": {},
   "outputs": [],
   "source": [
    "def table_builder(function, params, X):\n",
    "    if len(params.keys()) > 0:\n",
    "        results_table = pd.DataFrame(params)\n",
    "        results_table = results_table.set_index(list(params.keys()))\n",
    "    else:\n",
    "        results_table = pd.DataFrame(index = [1])\n",
    "\n",
    "    for column in ['Concentration of EV', 'Sparsity', 'Run Time (sec)']:\n",
    "        results_table[column] = np.nan\n",
    "\n",
    "    for index, row in results_table.iterrows():\n",
    "        start = datetime.now()\n",
    "        if len(params.keys()) == 0:\n",
    "            PCs = function(X)\n",
    "        elif len(params.keys()) == 1:\n",
    "            PCs = function(X, index)\n",
    "        else:\n",
    "            PCs = function(X, index[0], index[1])\n",
    "        obj = PCAObject(PCs, X_small, \"\")\n",
    "        stop = datetime.now()\n",
    "\n",
    "        evd = obj.evd\n",
    "        spa = obj.sparsity\n",
    "        runtime = \"{runtime:d}\".format(runtime = (stop - start).seconds)\n",
    "        results_table.loc[index] = [evd, spa, runtime]\n",
    "    return results_table"
   ]
  },
  {
   "cell_type": "code",
   "execution_count": 5,
   "metadata": {},
   "outputs": [],
   "source": [
    "def function(X):\n",
    "    return reg_PCA(X)[1]\n",
    "params = {}\n",
    "PCA_df = table_builder(function, params, X_small)\n",
    "with open('../Tables/PCA.tex', 'w') as file:\n",
    "        file.write(PCA_df.to_latex(column_format = \"cccc\",\n",
    "                                   index = False,\n",
    "                                   float_format = \"%.2f\",\n",
    "                                   escape = False))"
   ]
  },
  {
   "cell_type": "code",
   "execution_count": 6,
   "metadata": {},
   "outputs": [],
   "source": [
    "def function(X, reg):\n",
    "    return SCoT(X, reg)\n",
    "params = {r\"$\\theta$\": [10, 100, 500, 1000]}\n",
    "SCoT_df = table_builder(function, params, X_small)\n",
    "with open('../Tables/SCoT.tex', 'w') as file:\n",
    "        file.write(SCoT_df.to_latex(column_format = \"r|cccc\",\n",
    "                                    float_format = \"%.2f\",\n",
    "                                    escape = False))"
   ]
  },
  {
   "cell_type": "code",
   "execution_count": 7,
   "metadata": {},
   "outputs": [],
   "source": [
    "def function(X, reg):\n",
    "    return SCoTLASS(X, reg, alpha = 1e-6)\n",
    "params = {\"$t$\": [1, 1.2, 1.5, 1.6, 2]}\n",
    "SCoTLASS_df = table_builder(function, params, X_small)\n",
    "with open('../Tables/SCoTLASS.tex', 'w') as file:\n",
    "        file.write(SCoTLASS_df.to_latex(column_format = \"r|cccc\",\n",
    "                                        float_format = \"%.2f\",\n",
    "                                        escape = False))"
   ]
  },
  {
   "cell_type": "code",
   "execution_count": 8,
   "metadata": {},
   "outputs": [],
   "source": [
    "def function(X, reg, reg2):\n",
    "    transformer = SparsePCA(n_components = 9, alpha = reg, ridge_alpha = reg2)\n",
    "    transformer.fit(X)\n",
    "    return transformer.components_\n",
    "params = {\"$\\lambda_1$\": [5e-3, 1e-2, 1.5e-2, 2e-2, 2.5e-2], \n",
    "          \"$\\lambda_2$\": [0.1, 0.1, 0.1, 0.1, 0.1]}\n",
    "SPCA_df = table_builder(function, params, X_small)\n",
    "with open('../Tables/SPCA.tex', 'w') as file:\n",
    "        file.write(SPCA_df.to_latex(column_format = \"rr|cccc\",\n",
    "                                    float_format = \"%.2f\",\n",
    "                                    escape = False))"
   ]
  },
  {
   "cell_type": "code",
   "execution_count": 9,
   "metadata": {},
   "outputs": [],
   "source": [
    "def scot_wrapper(reg_param):\n",
    "    PCs = PCAObject(SCoT(X_small, reg_param, alpha = 10**-2, max_iter = 5e5), X_small, \" \")\n",
    "    return PCs.sparsity"
   ]
  },
  {
   "cell_type": "code",
   "execution_count": 10,
   "metadata": {},
   "outputs": [],
   "source": [
    "reg_params = np.geomspace(0.01, 1000, num = 10).reshape(-1,1)\n",
    "plot = np.apply_along_axis(scot_wrapper, axis = 1, arr = reg_params)"
   ]
  },
  {
   "cell_type": "code",
   "execution_count": 11,
   "metadata": {},
   "outputs": [
    {
     "data": {
      "image/png": "[encoded data removed]",
      "text/plain": [
       "<Figure size 432x288 with 1 Axes>"
      ]
     },
     "metadata": {
      "needs_background": "light"
     },
     "output_type": "display_data"
    }
   ],
   "source": [
    "plt.plot(reg_params, plot)\n",
    "plt.xlabel(r\"Regularization parameter $\\theta$\")\n",
    "plt.xscale(\"log\")\n",
    "plt.ylabel(\"Weighted Gini Coefficient\")\n",
    "plt.show()"
   ]
  },
  {
   "cell_type": "code",
   "execution_count": 12,
   "metadata": {
    "scrolled": true
   },
   "outputs": [
    {
     "data": {
      "image/png": "[encoded data removed]",
      "text/plain": [
       "<Figure size 432x288 with 1 Axes>"
      ]
     },
     "metadata": {
      "needs_background": "light"
     },
     "output_type": "display_data"
    }
   ],
   "source": [
    "reg_reg = PCAObject(reg_PCA(X_small)[1], X_small, \"PCA\")\n",
    "reg_scot_10 = PCAObject(SCoT(X_small, 10, alpha = 10**-3), X_small, r\"$\\theta = 10$\")\n",
    "reg_scot_100 = PCAObject(SCoT(X_small, 100, alpha = 10**-3), X_small, r\"$\\theta = 100$\")\n",
    "reg_scot_500 = PCAObject(SCoT(X_small, 500, alpha = 10**-3), X_small, r\"$\\theta = 500$\")\n",
    "reg_scot_1000 = PCAObject(SCoT(X_small, 1000, alpha = 10**-3), X_small, r\"$\\theta = 1000$\")\n",
    "\n",
    "reg_reg.plotCEV()\n",
    "reg_scot_10.plotCEV()\n",
    "reg_scot_100.plotCEV()\n",
    "reg_scot_500.plotCEV()\n",
    "reg_scot_1000.plotCEV()\n",
    "plt.savefig(\"../Figures/SCoT_comparison.pdf\", bbox_inches = 'tight')"
   ]
  },
  {
   "cell_type": "code",
   "execution_count": 23,
   "metadata": {},
   "outputs": [
    {
     "data": {
      "image/png": "[encoded data removed]",
      "text/plain": [
       "<Figure size 432x288 with 1 Axes>"
      ]
     },
     "metadata": {
      "needs_background": "light"
     },
     "output_type": "display_data"
    }
   ],
   "source": [
    "params = {\"$\\lambda_1$\": [5e-3, 1e-2, 1.5e-2, 2e-2, 2.5e-2], \n",
    "          \"$\\lambda_2$\": [0.1, 0.1, 0.1, 0.1, 0.1]}\n",
    "\n",
    "spca = SparsePCA(n_components = 9, alpha = 5e-3, ridge_alpha = 0.1).fit(X_small).components_\n",
    "reg_spca_5_3 = PCAObject(spca, X_small, r\"$\\lambda_1 = \\num{5e-3}$ and $\\lambda_2 = 0.1$\")\n",
    "\n",
    "spca = SparsePCA(n_components = 9, alpha = 1e-2, ridge_alpha = 0.1).fit(X_small).components_\n",
    "reg_spca_1_2 = PCAObject(spca, X_small, r\"$\\lambda_1 = \\num{1e-2}$ and $\\lambda_2 = 0.1$\")\n",
    "\n",
    "spca = SparsePCA(n_components = 9, alpha = 1.5e-2, ridge_alpha = 0.1).fit(X_small).components_\n",
    "reg_spca_1pt5_2 = PCAObject(spca, X_small, r\"$\\lambda_1 = \\num{1.5e-2}$ and $\\lambda_2 = 0.1$\")\n",
    "\n",
    "spca = SparsePCA(n_components = 9, alpha = 2e-2, ridge_alpha = 0.1).fit(X_small).components_\n",
    "reg_spca_2_2 = PCAObject(spca, X_small, r\"$\\lambda_1 = \\num{2e-2}$ and $\\lambda_2 = 0.1$\")\n",
    "\n",
    "reg_reg.plotCEV()\n",
    "reg_spca_5_3.plotCEV()\n",
    "reg_spca_1_2.plotCEV()\n",
    "reg_spca_1pt5_2.plotCEV()\n",
    "reg_spca_2_2.plotCEV()\n",
    "plt.savefig(\"../Figures/SPCA_comparison.pdf\", bbox_inches = 'tight')"
   ]
  },
  {
   "cell_type": "code",
   "execution_count": 30,
   "metadata": {},
   "outputs": [
    {
     "data": {
      "text/html": [
       "<div>\n",
       "<style scoped>\n",
       "    .dataframe tbody tr th:only-of-type {\n",
       "        vertical-align: middle;\n",
       "    }\n",
       "\n",
       "    .dataframe tbody tr th {\n",
       "        vertical-align: top;\n",
       "    }\n",
       "\n",
       "    .dataframe thead th {\n",
       "        text-align: right;\n",
       "    }\n",
       "</style>\n",
       "<table border=\"1\" class=\"dataframe\">\n",
       "  <thead>\n",
       "    <tr style=\"text-align: right;\">\n",
       "      <th></th>\n",
       "      <th>Concentration of EV</th>\n",
       "      <th>Sparsity</th>\n",
       "      <th>Run Time (sec)</th>\n",
       "    </tr>\n",
       "    <tr>\n",
       "      <th>Model</th>\n",
       "      <th></th>\n",
       "      <th></th>\n",
       "      <th></th>\n",
       "    </tr>\n",
       "  </thead>\n",
       "  <tbody>\n",
       "    <tr>\n",
       "      <th>PCA</th>\n",
       "      <td>NaN</td>\n",
       "      <td>NaN</td>\n",
       "      <td>NaN</td>\n",
       "    </tr>\n",
       "    <tr>\n",
       "      <th>SCoT ($\\theta = 1000$)</th>\n",
       "      <td>NaN</td>\n",
       "      <td>NaN</td>\n",
       "      <td>NaN</td>\n",
       "    </tr>\n",
       "    <tr>\n",
       "      <th>SCoTLASS ($t = 1.5$)</th>\n",
       "      <td>NaN</td>\n",
       "      <td>NaN</td>\n",
       "      <td>NaN</td>\n",
       "    </tr>\n",
       "    <tr>\n",
       "      <th>SPCA ($\\lambda_1=0.005$ and $\\lambda_2=0.1$)</th>\n",
       "      <td>NaN</td>\n",
       "      <td>NaN</td>\n",
       "      <td>NaN</td>\n",
       "    </tr>\n",
       "  </tbody>\n",
       "</table>\n",
       "</div>"
      ],
      "text/plain": [
       "                                              Concentration of EV  Sparsity  \\\n",
       "Model                                                                         \n",
       "PCA                                                           NaN       NaN   \n",
       "SCoT ($\\theta = 1000$)                                        NaN       NaN   \n",
       "SCoTLASS ($t = 1.5$)                                          NaN       NaN   \n",
       "SPCA ($\\lambda_1=0.005$ and $\\lambda_2=0.1$)                  NaN       NaN   \n",
       "\n",
       "                                              Run Time (sec)  \n",
       "Model                                                         \n",
       "PCA                                                      NaN  \n",
       "SCoT ($\\theta = 1000$)                                   NaN  \n",
       "SCoTLASS ($t = 1.5$)                                     NaN  \n",
       "SPCA ($\\lambda_1=0.005$ and $\\lambda_2=0.1$)             NaN  "
      ]
     },
     "execution_count": 30,
     "metadata": {},
     "output_type": "execute_result"
    }
   ],
   "source": [
    "results_table = pd.DataFrame({'Model': ['PCA', r\"SCoT ($\\theta = 1000$)\", \n",
    "                                      \"SCoTLASS ($t = 1.5$)\", \n",
    "                                      \"SPCA ($\\lambda_1=0.005$ and $\\lambda_2=0.1$)\"]})\n",
    "for column in ['Concentration of EV', 'Sparsity', 'Run Time (sec)']:\n",
    "    results_table[column] = np.nan\n",
    "results_table.set_index('Model')"
   ]
  },
  {
   "cell_type": "code",
   "execution_count": 31,
   "metadata": {},
   "outputs": [],
   "source": [
    "results_table = pd.DataFrame({'Model': ['PCA', r\"SCoT ($\\theta = 1000$)\", \n",
    "                                      \"SCoTLASS ($t = 1.5$)\", \n",
    "                                      \"SPCA ($\\lambda_1=0.005$ and $\\lambda_2=0.1$)\"]})\n",
    "for column in ['Concentration of EV', 'Sparsity', 'Run Time (sec)']:\n",
    "        results_table[column] = np.nan\n",
    "results_table = results_table.set_index('Model')\n",
    "\n",
    "start = datetime.now()\n",
    "reg_reg = PCAObject(reg_PCA(X_small)[1], X_small, \"PCA\")\n",
    "stop = datetime.now()\n",
    "results_table.loc[\"PCA\"] = [reg_reg.evd, \n",
    "                            reg_reg.sparsity, \n",
    "                            \"{runtime:d}\".format(runtime = (stop - start).seconds)]\n",
    "\n",
    "\n",
    "start = datetime.now()\n",
    "reg_scot_1000 = PCAObject(SCoT(X_small, 1000, alpha = 10**-3), \n",
    "                          X_small, r\"SCoT ($\\theta = 1000$)\")\n",
    "stop = datetime.now()\n",
    "results_table.loc[r\"SCoT ($\\theta = 1000$)\"] = [reg_scot_1000.evd, \n",
    "                                                reg_scot_1000.sparsity, \n",
    "                                                \"{runtime:d}\".format(runtime = (stop - start).seconds)]\n",
    "\n",
    "start = datetime.now()\n",
    "reg_scotlass_1pt5 = PCAObject(SCoTLASS(X_small,1.5,alpha = 2*10**-6, max_iter=500000), \n",
    "                              X_small, \"SCoTLASS ($t = 1.5$)\")\n",
    "stop = datetime.now()\n",
    "results_table.loc[\"SCoTLASS ($t = 1.5$)\"] = [reg_scotlass_1pt5.evd, \n",
    "                            reg_scotlass_1pt5.sparsity, \n",
    "                            \"{runtime:d}\".format(runtime = (stop - start).seconds)]\n",
    "\n",
    "start = datetime.now()\n",
    "reg_spca_100_0pt1 = PCAObject(SparsePCA(n_components = 9, alpha = 0.005, ridge_alpha = 0.1).fit(X_small).components_, \n",
    "                              X_small, \"SPCA ($\\lambda_1=0.005$ and $\\lambda_2=0.1$)\")\n",
    "stop = datetime.now()\n",
    "results_table.loc[\"SPCA ($\\lambda_1=0.005$ and $\\lambda_2=0.1$)\"] = [reg_spca_100_0pt1.evd, \n",
    "                            reg_spca_100_0pt1.sparsity, \n",
    "                            \"{runtime:d}\".format(runtime = (stop - start).seconds)]\n",
    "\n",
    "with open('../Tables/SummaryModels.tex', 'w') as file:\n",
    "        file.write(results_table.to_latex(column_format = \"r|ccc\",\n",
    "                                            float_format = \"%.2f\",\n",
    "                                            escape = False))"
   ]
  },
  {
   "cell_type": "code",
   "execution_count": null,
   "metadata": {},
   "outputs": [],
   "source": [
    "reg_reg.plotSparsity()\n",
    "reg_scot_1000.plotSparsity()\n",
    "reg_scotlass_1pt5.plotSparsity()\n",
    "reg_spca_100_0pt1.plotSparsity()\n",
    "plt.legend(bbox_to_anchor = (0.5, -0.15), ncol = 2, loc = 'upper center')\n",
    "plt.savefig(\"../Figures/sparsityOfComponents.pdf\", bbox_inches = 'tight')"
   ]
  },
  {
   "cell_type": "code",
   "execution_count": null,
   "metadata": {},
   "outputs": [],
   "source": [
    "reg_reg = PCAObject(reg_PCA(X_small)[1], X_small, \"Regular\")\n",
    "\n",
    "reg_scot_500 = PCAObject(SCoT(X_small, 500, alpha = 10**-3), \n",
    "                         X_small, r\"SCoT ($\\theta = 500$)\")\n",
    "reg_scot_750 = PCAObject(SCoT(X_small, 750, alpha = 10**-3), \n",
    "                         X_small, r\"SCoT ($\\theta = 750$)\")\n",
    "reg_scot_1000 = PCAObject(SCoT(X_small, 1000, alpha = 10**-3), \n",
    "                          X_small, r\"SCoT ($\\theta =1000$)\")\n",
    "reg_scot_5000 = PCAObject(SCoT(X_small, 5000, alpha = 10**-3), \n",
    "                          X_small, r\"SCoT ($\\theta =5000$)\")\n",
    "\n",
    "reg_scotlass_1 = PCAObject(SCoTLASS(X_small,1,alpha = 10**-6, max_iter = 500000), \n",
    "                           X_small, \"SCoTLASS ($t = 1$)\")\n",
    "reg_scotlass_1pt3 = PCAObject(SCoTLASS(X_small,1.3,alpha = 1.5*10**-6, max_iter = 500000), \n",
    "                              X_small, \"SCoTLASS ($t = 1.3$)\")\n",
    "reg_scotlass_1pt5= PCAObject(SCoTLASS(X_small,1.5,alpha = 2*10**-6, max_iter=500000), \n",
    "                             X_small, \"SCoTLASS ($t = 1.5$)\")\n",
    "reg_scotlass_1pt6= PCAObject(SCoTLASS(X_small,1.6,alpha = 2*10**-6, max_iter=500000), \n",
    "                             X_small, \"SCoTLASS ($t = 1.6$)\")\n",
    "reg_scotlass_2 = PCAObject(SCoTLASS(X_small,2,alpha = 2*10**-6, max_iter=1000000), \n",
    "                           X_small, \"SCoTLASS ($t = 2$)\")\n",
    "\n",
    "reg_reg_ord = list(reversed(np.argsort(abs(reg_reg.pcs[0]))))+np.ones(len(reg_reg.pcs[0]))\n",
    "\n",
    "reg_scot_500_ord = list(reversed(np.argsort(abs(reg_scot_500.pcs[0]))))+np.ones(len(reg_scot_500.pcs[0]))\n",
    "reg_scot_750_ord = list(reversed(np.argsort(abs(reg_scot_750.pcs[0]))))+np.ones(len(reg_scot_750.pcs[0]))\n",
    "reg_scot_1000_ord = list(reversed(np.argsort(abs(reg_scot_1000.pcs[0]))))+np.ones(len(reg_scot_1000.pcs[0]))\n",
    "reg_scot_5000_ord = list(reversed(np.argsort(abs(reg_scot_5000.pcs[0]))))+np.ones(len(reg_scot_5000.pcs[0]))\n",
    "\n",
    "reg_scotlass_1_ord = list(reversed(np.argsort(abs(reg_scotlass_1.pcs[0]))))+np.ones(len(reg_scotlass_1.pcs[0]))\n",
    "reg_scotlass_1pt3_ord = list(reversed(np.argsort(abs(reg_scotlass_1pt3.pcs[0]))))+np.ones(len(reg_scotlass_1pt3.pcs[0]))\n",
    "reg_scotlass_1pt5_ord = list(reversed(np.argsort(abs(reg_scotlass_1pt5.pcs[0]))))+np.ones(len(reg_scotlass_1pt5.pcs[0]))\n",
    "reg_scotlass_1pt6_ord = list(reversed(np.argsort(abs(reg_scotlass_1pt6.pcs[0]))))+np.ones(len(reg_scotlass_1pt6.pcs[0]))\n",
    "reg_scotlass_2_ord = list(reversed(np.argsort(abs(reg_scotlass_2.pcs[0]))))+np.ones(len(reg_scotlass_2.pcs[0]))\n",
    "\n",
    "ordered_loadings = np.array([reg_reg_ord,\n",
    "                    reg_scot_500_ord,\n",
    "                    reg_scot_750_ord,\n",
    "                    reg_scot_1000_ord,\n",
    "                    reg_scot_5000_ord,\n",
    "                    reg_scotlass_2_ord,\n",
    "                    reg_scotlass_1pt5_ord,\n",
    "                    reg_scotlass_1pt3_ord,\n",
    "                    reg_scotlass_1_ord])\n",
    "\n",
    "gini_coefs = np.array([reg_reg.gini[0],\n",
    "              reg_scot_500.gini[0],    \n",
    "              reg_scot_750.gini[0],             \n",
    "              reg_scot_1000.gini[0],\n",
    "              reg_scot_5000.gini[0],\n",
    "              reg_scotlass_2.gini[0],\n",
    "              reg_scotlass_1pt5.gini[0],                    \n",
    "              reg_scotlass_1pt3.gini[0],\n",
    "              reg_scotlass_1.gini[0]])\n",
    "\n",
    "pevs = np.array([reg_reg.pev[0],\n",
    "              reg_scot_500.pev[0],    \n",
    "              reg_scot_750.pev[0],             \n",
    "              reg_scot_1000.pev[0],\n",
    "              reg_scot_5000.pev[0],\n",
    "              reg_scotlass_2.pev[0],\n",
    "              reg_scotlass_1pt5.pev[0],                    \n",
    "              reg_scotlass_1pt3.pev[0],\n",
    "              reg_scotlass_1.pev[0]])\n",
    "\n",
    "gini_coefs = np.reshape(gini_coefs,(len(gini_coefs),1))\n",
    "\n",
    "pevs = np.reshape(pevs,(len(pevs),1))\n",
    "\n",
    "weighted_gini = gini_coefs * pevs\n",
    "\n",
    "df_data = np.concatenate((gini_coefs, pevs, weighted_gini, ordered_loadings), 1)\n",
    "\n",
    "rows = ['PCA',\n",
    "        'SCoT ($\\theta = 500$)',\n",
    "        'SCoT ($\\theta = 750$)',\n",
    "        'SCoT ($\\theta = 1000$)',\n",
    "        'SCoT ($\\theta = 5000$)',\n",
    "        'SCoTLASS ($t = 2$)',\n",
    "        'SCoTLASS ($t = 1.5$)',\n",
    "        'SCoTLASS ($t = 1.3$)',\n",
    "        'SCoTLASS ($t = 1$)']\n",
    "\n",
    "cols = ['gini','pev','weighted gini']+['%d' %(i+1) for i in range(X_small.shape[1])]\n",
    "ordered_load_df = pd.DataFrame(df_data,index = rows, columns = cols)\n",
    "ordered_load_df = ordered_load_df.astype({'1': int, '2': int, '3': int, '4': int, '5': int, \n",
    "                                          '6': int, '7': int, '8': int, '9': int})\n",
    "\n",
    "with open('../Tables/orderedLoads.tex', 'w') as file:\n",
    "        file.write(ordered_load_df.to_latex(column_format = \"r|cccccccccccc\",\n",
    "                                            float_format = \"%.2f\",\n",
    "                                            escape = False))"
   ]
  },
  {
   "cell_type": "code",
   "execution_count": null,
   "metadata": {},
   "outputs": [],
   "source": [
    "reg_reg.plotCEV()\n",
    "reg_scotlass_1.plotCEV()\n",
    "reg_scotlass_1pt3.plotCEV()\n",
    "reg_scotlass_1pt5.plotCEV()\n",
    "reg_scotlass_2.plotCEV()\n",
    "plt.savefig(\"../Figures/SCoTLASS_comparison.pdf\", bbox_inches = 'tight')"
   ]
  },
  {
   "cell_type": "code",
   "execution_count": null,
   "metadata": {},
   "outputs": [],
   "source": []
  }
 ],
 "metadata": {
  "kernelspec": {
   "display_name": "Python 3",
   "language": "python",
   "name": "python3"
  },
  "language_info": {
   "codemirror_mode": {
    "name": "ipython",
    "version": 3
   },
   "file_extension": ".py",
   "mimetype": "text/x-python",
   "name": "python",
   "nbconvert_exporter": "python",
   "pygments_lexer": "ipython3",
   "version": "3.7.6"
  }
 },
 "nbformat": 4,
 "nbformat_minor": 4
}
